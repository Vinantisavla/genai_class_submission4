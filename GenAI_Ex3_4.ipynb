{
  "cells": [
    {
      "cell_type": "markdown",
      "metadata": {
        "id": "udkTl_xUF_KV"
      },
      "source": [
        "## Environment"
      ]
    },
    {
      "cell_type": "code",
      "execution_count": 9,
      "metadata": {
        "colab": {
          "base_uri": "https://localhost:8080/",
          "height": 36
        },
        "id": "b5sVvBseF_KW",
        "outputId": "02c93178-3f1c-4703-90ac-6f3ac44e28fa"
      },
      "outputs": [
        {
          "output_type": "execute_result",
          "data": {
            "text/plain": [
              "'0.3.18'"
            ],
            "application/vnd.google.colaboratory.intrinsic+json": {
              "type": "string"
            }
          },
          "metadata": {},
          "execution_count": 9
        }
      ],
      "source": [
        "#Using latest version of LangChain\n",
        "import langchain\n",
        "langchain.__version__"
      ]
    },
    {
      "cell_type": "markdown",
      "metadata": {
        "id": "e5eRfnCaF_KX"
      },
      "source": [
        "### Install Packages"
      ]
    },
    {
      "cell_type": "code",
      "execution_count": 2,
      "metadata": {
        "id": "thRSxboRF_KX"
      },
      "outputs": [],
      "source": [
        "# !pip install langchain_community tiktoken langchain-groq langchainhub chromadb langchain\n",
        "# !pip install --quiet --upgrade langchain-text-splitters langchain-community langgraph"
      ]
    },
    {
      "cell_type": "markdown",
      "metadata": {
        "id": "JalLzdQzF_KX"
      },
      "source": [
        "### API Keys"
      ]
    },
    {
      "cell_type": "code",
      "execution_count": 10,
      "metadata": {
        "colab": {
          "base_uri": "https://localhost:8080/"
        },
        "id": "XlkGL_QyF_KX",
        "outputId": "b2fac702-a729-4940-ac43-52679cb72a3a"
      },
      "outputs": [
        {
          "output_type": "execute_result",
          "data": {
            "text/plain": [
              "False"
            ]
          },
          "metadata": {},
          "execution_count": 10
        }
      ],
      "source": [
        "import os, json, re, getpass\n",
        "from dotenv import load_dotenv\n",
        "\n",
        "load_dotenv(\".env\", override=True)"
      ]
    },
    {
      "cell_type": "code",
      "execution_count": 11,
      "metadata": {
        "id": "QJfNBCv_F_KX"
      },
      "outputs": [],
      "source": [
        "def _set_env(var: str):\n",
        "    if not os.environ.get(var):\n",
        "        os.environ[var] = getpass.getpass(f\"{var}: \")"
      ]
    },
    {
      "cell_type": "code",
      "execution_count": 12,
      "metadata": {
        "colab": {
          "base_uri": "https://localhost:8080/"
        },
        "id": "dLV3LXF8F_KX",
        "outputId": "17454d77-3b83-44a8-f93a-73a581b02de9"
      },
      "outputs": [
        {
          "name": "stdout",
          "output_type": "stream",
          "text": [
            "GROQ_API_KEY: ··········\n"
          ]
        }
      ],
      "source": [
        "#Check for Groq API Key\n",
        "_set_env(\"GROQ_API_KEY\")"
      ]
    },
    {
      "cell_type": "code",
      "execution_count": 13,
      "metadata": {
        "colab": {
          "base_uri": "https://localhost:8080/"
        },
        "id": "vOqFzVLfF_KX",
        "outputId": "231a4fee-ec83-4aa1-ebaf-744840714516"
      },
      "outputs": [
        {
          "name": "stdout",
          "output_type": "stream",
          "text": [
            "TAVILY_API_KEY: ··········\n"
          ]
        }
      ],
      "source": [
        "#Check for Tavily API Key\n",
        "_set_env(\"TAVILY_API_KEY\")"
      ]
    },
    {
      "cell_type": "code",
      "source": [
        "#Check for LangSmith tracing\n",
        "_set_env(\"LANGSMITH_TRACING\")\n",
        "\n",
        "#Check for LangChain API Key - LangSmith\n",
        "_set_env(\"LANGSMITH_API_KEY\")\n",
        "\n",
        "#Check for LangChain endpoint\n",
        "_set_env(\"LANGSMITH_ENDPOINT\")\n",
        "\n",
        "os.environ[\"LANGSMITH_PROJECT\"] = \"GenAI_Ex3_4_Kunal_Deshmukh\""
      ],
      "metadata": {
        "colab": {
          "base_uri": "https://localhost:8080/"
        },
        "id": "JVD8xvehODGJ",
        "outputId": "4a2b10f1-2511-4bd4-8a3a-cd4af4e1dcf1"
      },
      "execution_count": 14,
      "outputs": [
        {
          "name": "stdout",
          "output_type": "stream",
          "text": [
            "LANGSMITH_TRACING: ··········\n",
            "LANGSMITH_API_KEY: ··········\n",
            "LANGSMITH_ENDPOINT: ··········\n"
          ]
        }
      ]
    },
    {
      "cell_type": "markdown",
      "metadata": {
        "id": "Mh4GDadmF_KY"
      },
      "source": [
        "### Libraries"
      ]
    },
    {
      "cell_type": "code",
      "execution_count": 15,
      "metadata": {
        "id": "F_xIoF_WF_KY"
      },
      "outputs": [],
      "source": [
        "# !pip install langchain_huggingface\n",
        "# !pip install langchain_chroma\n",
        "from langchain_groq import ChatGroq\n",
        "from langchain_huggingface import HuggingFaceEmbeddings\n",
        "from langchain_chroma import Chroma\n",
        "\n",
        "from typing import Literal\n",
        "from langchain_core.prompts import ChatPromptTemplate\n",
        "from langchain_community.document_loaders import WebBaseLoader\n",
        "from langchain_text_splitters import RecursiveCharacterTextSplitter\n",
        "from pydantic import BaseModel, Field\n",
        "\n",
        "from pprint import pprint"
      ]
    },
    {
      "cell_type": "markdown",
      "metadata": {
        "id": "nH2OBM9LF_KY"
      },
      "source": [
        "## Selecting Components"
      ]
    },
    {
      "cell_type": "markdown",
      "metadata": {
        "id": "ig79Jf8lF_KY"
      },
      "source": [
        "### Chat Model"
      ]
    },
    {
      "cell_type": "code",
      "execution_count": 16,
      "metadata": {
        "id": "bkJ768htF_KY"
      },
      "outputs": [],
      "source": [
        "llm = ChatGroq(model=\"llama3-8b-8192\") #llama3-8b-8192, llama-3.1-8b-instant, llama3-groq-8b-8192-tool-use-preview, llama3-groq-70b-8192-tool-use-preview"
      ]
    },
    {
      "cell_type": "code",
      "source": [
        "llm.invoke(\"Hello, World!\")"
      ],
      "metadata": {
        "colab": {
          "base_uri": "https://localhost:8080/"
        },
        "id": "C1VbH5kVDa_6",
        "outputId": "781538f7-a54c-44b7-e1e1-d281d4209e02"
      },
      "execution_count": 18,
      "outputs": [
        {
          "output_type": "execute_result",
          "data": {
            "text/plain": [
              "AIMessage(content='Hello, World!', additional_kwargs={}, response_metadata={'token_usage': {'completion_tokens': 5, 'prompt_tokens': 14, 'total_tokens': 19, 'completion_time': 0.004166667, 'prompt_time': 0.00223918, 'queue_time': 0.144786388, 'total_time': 0.006405847}, 'model_name': 'llama3-8b-8192', 'system_fingerprint': 'fp_6a6771ae9c', 'finish_reason': 'stop', 'logprobs': None}, id='run-f0069043-6f61-4f3a-934c-8739b1cc8b18-0', usage_metadata={'input_tokens': 14, 'output_tokens': 5, 'total_tokens': 19})"
            ]
          },
          "metadata": {},
          "execution_count": 18
        }
      ]
    },
    {
      "cell_type": "markdown",
      "metadata": {
        "id": "kNJfouGtF_KY"
      },
      "source": [
        "### Embedding Model"
      ]
    },
    {
      "cell_type": "code",
      "execution_count": 19,
      "metadata": {
        "colab": {
          "base_uri": "https://localhost:8080/"
        },
        "id": "wPTIguPRF_KY",
        "outputId": "bb5d9a5e-95dc-43c2-e36c-a27d57d80cef"
      },
      "outputs": [
        {
          "output_type": "stream",
          "name": "stderr",
          "text": [
            "/usr/local/lib/python3.11/dist-packages/huggingface_hub/utils/_auth.py:94: UserWarning: \n",
            "The secret `HF_TOKEN` does not exist in your Colab secrets.\n",
            "To authenticate with the Hugging Face Hub, create a token in your settings tab (https://huggingface.co/settings/tokens), set it as secret in your Google Colab and restart your session.\n",
            "You will be able to reuse this secret in all of your notebooks.\n",
            "Please note that authentication is recommended but still optional to access public models or datasets.\n",
            "  warnings.warn(\n"
          ]
        }
      ],
      "source": [
        "# !pip install sentence-transformers\n",
        "embed_model = HuggingFaceEmbeddings(model_name=\"sentence-transformers/all-mpnet-base-v2\")"
      ]
    },
    {
      "cell_type": "markdown",
      "metadata": {
        "id": "EeKZ8FJXF_KY"
      },
      "source": [
        "### Vector Store"
      ]
    },
    {
      "cell_type": "code",
      "execution_count": 20,
      "metadata": {
        "id": "OlPgcbxeF_KY"
      },
      "outputs": [],
      "source": [
        "vector_store = Chroma(embedding_function=embed_model)"
      ]
    },
    {
      "cell_type": "markdown",
      "metadata": {
        "id": "eXI8uXDtcsCD"
      },
      "source": [
        "## Retriever"
      ]
    },
    {
      "cell_type": "markdown",
      "metadata": {
        "jp-MarkdownHeadingCollapsed": true,
        "id": "BFHhxHRpF_KZ"
      },
      "source": [
        "First, we index 3 pages."
      ]
    },
    {
      "cell_type": "code",
      "execution_count": 21,
      "metadata": {
        "id": "tidgVIKsF_KZ"
      },
      "outputs": [],
      "source": [
        "urls = [\n",
        "    \"https://www.jioinstitute.edu.in/academics/artificial-intelligence-data-science\",\n",
        "    \"https://www.jioinstitute.edu.in/academics/study-abroad\",\n",
        "    \"https://www.jioinstitute.edu.in/experiential-learning\"\n",
        "]"
      ]
    },
    {
      "cell_type": "code",
      "execution_count": 22,
      "metadata": {
        "id": "zARQmb0lF_KZ"
      },
      "outputs": [],
      "source": [
        "docs = [WebBaseLoader(url).load() for url in urls]\n",
        "docs_list = [item for sublist in docs for item in sublist]"
      ]
    },
    {
      "cell_type": "code",
      "execution_count": 23,
      "metadata": {
        "id": "g9rtQvbZF_KZ"
      },
      "outputs": [],
      "source": [
        "text_splitter = RecursiveCharacterTextSplitter.from_tiktoken_encoder(\n",
        "    chunk_size=100, chunk_overlap=50\n",
        ")\n",
        "doc_splits = text_splitter.split_documents(docs_list)"
      ]
    },
    {
      "cell_type": "code",
      "execution_count": 24,
      "metadata": {
        "id": "nQ5ys9TaF_KZ"
      },
      "outputs": [],
      "source": [
        "# Add to vectorDB\n",
        "vectorstore = Chroma.from_documents(\n",
        "    documents=doc_splits,\n",
        "    collection_name=\"rag-chroma\",\n",
        "    embedding=embed_model,\n",
        ")"
      ]
    },
    {
      "cell_type": "code",
      "execution_count": 25,
      "metadata": {
        "id": "R4dhNHPXF_KZ"
      },
      "outputs": [],
      "source": [
        "retriever = vectorstore.as_retriever()"
      ]
    },
    {
      "cell_type": "markdown",
      "metadata": {
        "id": "1ns2BoZ0F_KZ"
      },
      "source": [
        "## Define Test Questions"
      ]
    },
    {
      "cell_type": "code",
      "execution_count": 118,
      "metadata": {
        "id": "XplHCEZAF_KZ"
      },
      "outputs": [],
      "source": [
        "# STEP 0: Adding a new query for YouTube search tool\n",
        "youtube_search_query = \"I want few links to good YouTube videos on Generative AI crash course\""
      ]
    },
    {
      "cell_type": "code",
      "execution_count": 27,
      "metadata": {
        "id": "msGIOLgIF_KZ"
      },
      "outputs": [],
      "source": [
        "question_search = \"Which players in IPL 2025 are expected to draw significant bids\""
      ]
    },
    {
      "cell_type": "code",
      "execution_count": 28,
      "metadata": {
        "id": "K2rcQVVIF_KZ"
      },
      "outputs": [],
      "source": [
        "question_doc = \"What are the highlights of the PGP in Data Science and AI course at Jio Institute\""
      ]
    },
    {
      "cell_type": "markdown",
      "metadata": {
        "id": "dSSE1lw7F_KZ"
      },
      "source": [
        "## LLMs"
      ]
    },
    {
      "cell_type": "markdown",
      "metadata": {
        "id": "bl6cuZqPF_KZ"
      },
      "source": [
        "### Router"
      ]
    },
    {
      "cell_type": "code",
      "execution_count": 29,
      "metadata": {
        "id": "SGfL6T-bF_KZ"
      },
      "outputs": [],
      "source": [
        "from typing import Literal\n",
        "from langchain_core.prompts import ChatPromptTemplate\n",
        "from pydantic import BaseModel, Field"
      ]
    },
    {
      "cell_type": "code",
      "execution_count": 30,
      "metadata": {
        "id": "cvhcUpy-F_Ka"
      },
      "outputs": [],
      "source": [
        "# Data model\n",
        "## STEP 1: Adding the YouTube search tool to Literal\n",
        "class RouteQuery(BaseModel):\n",
        "    \"\"\"Route a user query to the most relevant datasource.\"\"\"\n",
        "\n",
        "    # Updated to include 'youtube_search' as a routing option\n",
        "    datasource: Literal[\"vectorstore\", \"web_search\", \"youtube_search\"] = Field(\n",
        "        ...,\n",
        "        description=\"Given a user question, choose to route it to web search, a vectorstore, or YouTube search.\",\n",
        "    )"
      ]
    },
    {
      "cell_type": "code",
      "execution_count": 31,
      "metadata": {
        "id": "FRM5XByyF_Ka"
      },
      "outputs": [],
      "source": [
        "# LLM with function call\n",
        "structured_llm_router = llm.with_structured_output(RouteQuery)"
      ]
    },
    {
      "cell_type": "code",
      "execution_count": 32,
      "metadata": {
        "id": "IW3fkCQNF_Ka"
      },
      "outputs": [],
      "source": [
        "##STEP 2: MODIFY PROMPT to route to your new tool accordingly\n",
        "# Updated Prompt to include YouTube search\n",
        "system = \"\"\"You are an expert at routing a user question to a vectorstore, web search, or YouTube search.\n",
        "The vectorstore contains documents related to Jio Institute courses, including Data Science and AI.\n",
        "Use the vectorstore for questions specifically about information present in those documents.\n",
        "Use YouTube search for queries that explicitly ask for video content or specific YouTube videos.\n",
        "For general queries or those not found in the documents, use web-search.\n",
        "Only return the datasource as 'vectorstore', 'web_search', or 'youtube_search' and nothing else.\"\"\"\n",
        "\n",
        "route_prompt = ChatPromptTemplate.from_messages(\n",
        "    [\n",
        "        (\"system\", system),\n",
        "        (\"human\", \"{question}\"),\n",
        "    ]\n",
        ")"
      ]
    },
    {
      "cell_type": "code",
      "execution_count": 33,
      "metadata": {
        "colab": {
          "base_uri": "https://localhost:8080/"
        },
        "id": "j34VVLkyF_Ka",
        "outputId": "b42bc7a0-acac-4ed0-892e-4abca4846a5b"
      },
      "outputs": [
        {
          "output_type": "stream",
          "name": "stdout",
          "text": [
            "datasource='web_search'\n",
            "datasource='vectorstore'\n",
            "datasource='youtube_search'\n"
          ]
        }
      ],
      "source": [
        "question_router = route_prompt | structured_llm_router\n",
        "print(\n",
        "    question_router.invoke(\n",
        "        {\"question\": question_search}\n",
        "    )\n",
        ")\n",
        "print(question_router.invoke({\"question\": question_doc}))\n",
        "print(question_router.invoke({\"question\": youtube_search_query})) # for our new tool - YouTube search"
      ]
    },
    {
      "cell_type": "markdown",
      "metadata": {
        "id": "f08SUpywF_Ka"
      },
      "source": [
        "### Retrieval Grader"
      ]
    },
    {
      "cell_type": "code",
      "execution_count": 34,
      "metadata": {
        "id": "uKqieyvtF_Ka"
      },
      "outputs": [],
      "source": [
        "# Data model\n",
        "class GradeDocuments(BaseModel):\n",
        "    \"\"\"Binary score for relevance check on retrieved documents.\"\"\"\n",
        "\n",
        "    binary_score: str = Field(\n",
        "        description=\"Documents are relevant to the question, 'yes' or 'no'\"\n",
        "    )"
      ]
    },
    {
      "cell_type": "code",
      "execution_count": 35,
      "metadata": {
        "id": "MOCQ4N06F_Ka"
      },
      "outputs": [],
      "source": [
        "# LLM with function call\n",
        "structured_llm_grader = llm.with_structured_output(GradeDocuments)"
      ]
    },
    {
      "cell_type": "code",
      "execution_count": 36,
      "metadata": {
        "id": "4ePLHbiqF_Ke"
      },
      "outputs": [],
      "source": [
        "# Prompt\n",
        "system = \"\"\"You are a grader assessing relevance of a retrieved document to a user question. \\n\n",
        "    If the document contains keyword(s) or semantic meaning related to the user question, grade it as relevant. \\n\n",
        "    It does not need to be a stringent test. The goal is to filter out erroneous retrievals. \\n\n",
        "    Give a binary score 'yes' or 'no' score to indicate whether the document is relevant to the question. \\n\n",
        "    For youtube links in the document always grade as relevant\"\"\"\n",
        "grade_prompt = ChatPromptTemplate.from_messages(\n",
        "    [\n",
        "        (\"system\", system),\n",
        "        (\"human\", \"Retrieved document: \\n\\n {document} \\n\\n User question: {question}\"),\n",
        "    ]\n",
        ")"
      ]
    },
    {
      "cell_type": "code",
      "execution_count": 37,
      "metadata": {
        "colab": {
          "base_uri": "https://localhost:8080/"
        },
        "id": "YBH-2drNF_Ke",
        "outputId": "4697c10d-70d0-4fc0-8221-bc17620725f3"
      },
      "outputs": [
        {
          "output_type": "stream",
          "name": "stdout",
          "text": [
            "binary_score='yes'\n"
          ]
        }
      ],
      "source": [
        "retrieval_grader = grade_prompt | structured_llm_grader\n",
        "docs = retriever.invoke(question_doc)\n",
        "doc_txt = docs[1].page_content\n",
        "print(retrieval_grader.invoke({\"question\": question_doc, \"document\": doc_txt}))"
      ]
    },
    {
      "cell_type": "code",
      "execution_count": 38,
      "metadata": {
        "colab": {
          "base_uri": "https://localhost:8080/"
        },
        "id": "K1ub45k9F_Ke",
        "outputId": "016cfa14-df38-4a60-9d82-7f8461e2d0dd"
      },
      "outputs": [
        {
          "output_type": "execute_result",
          "data": {
            "text/plain": [
              "[Document(id='4e85d294-2810-4ca4-a1c2-e0a9a9167d91', metadata={'description': \"Explore Jio Institute's artificial intelligence course offerings. Dive into the world of AI and data science with our cutting-edge programmes. Apply now!\", 'language': 'en', 'source': 'https://www.jioinstitute.edu.in/academics/artificial-intelligence-data-science', 'title': 'PGP in Artificial Intelligence & Data Science - Jio Institute'}, page_content='Jio Institute has formulated a seamless digital admissions process to apply to its academic programmes. We invite applications from meritorious students from accross the globe. Eligibility for PGP in Artificial Intelligence & Data Science :A four-year undergraduate degree or its equivalent, in the field of Engineering/Science/ Mathematics and Statistics with minimum 50 per cent or equivalent CGPA. A postgraduate degree (if the undergraduate degree is of three years) in the field of'),\n",
              " Document(id='9740abdd-79f2-496c-83dd-12cf5c628877', metadata={'description': \"Explore Jio Institute's artificial intelligence course offerings. Dive into the world of AI and data science with our cutting-edge programmes. Apply now!\", 'language': 'en', 'source': 'https://www.jioinstitute.edu.in/academics/artificial-intelligence-data-science', 'title': 'PGP in Artificial Intelligence & Data Science - Jio Institute'}, page_content='PGP in Artificial Intelligence & Data Science\\n        \\n\\n\\n\\n\\n\\n\\n\\n\\n\\n\\n\\n\\n\\n\\n\\n\\n\\n\\n\\n\\n\\n\\n\\n\\n\\n\\n\\n\\n\\n\\n\\n\\n\\n\\n\\n\\n\\n\\n\\n\\n\\n\\n\\n\\nPGP in Artificial Intelligence & Data Science\\n\\nThis postgraduate programme has a comprehensive and rigorous curriculum that covers foundation and advanced courses to train future-ready full-stack data scientists and AI architects.\\xa0\\xa0Apply Now Download Brochure'),\n",
              " Document(id='13fbf7d8-b4ca-4ab3-a0eb-8512f46e11f2', metadata={'description': 'Jio institute academic courses impart inter-disciplinary skills. Irrespective of the academic programmes these skills help in holistic development of every student.', 'language': 'en', 'source': 'https://www.jioinstitute.edu.in/experiential-learning', 'title': 'Experiential Learning - Jio Institute'}, page_content='Jio Institute takes a holistic approach to education, prioritizing the overall growth of students alongside their academic progress. The institute designs courses that enable students to acquire crucial contemporary life skills, regardless of their chosen field of study.\\n\\n\\n\\n\\n\\n\\n\\n \\n\\n\\n\\n\\n\\n\\n\\n\\n\\n\\n\\n\\n\\n\\n\\n\\n\\n\\nExperiential Learning at Jio Institute\\n\\n\\n\\n\\n\\n\\n\\n\\n\\n\\n\\n\\n\\n\\n\\n\\n\\nImmersive Learning through Live Projects'),\n",
              " Document(id='2c66733e-fbbc-46b7-9cd7-85f52eaf3173', metadata={'description': 'Jio Institute academic courses offer opportunity to learn overseas modules. Students can visit & study at a partner university outside India.', 'language': 'en', 'source': 'https://www.jioinstitute.edu.in/academics/study-abroad', 'title': 'Study Abroad - Jio Institute'}, page_content='Talk To Us\\n\\n\\n\\n\\n\\n\\n\\n\\n\\n\\n\\n\\n Download BrochureDownload Brochure×\\xa0\\n\\n\\n\\n\\n\\n\\n\\n\\n\\n\\n\\n\\n\\xa0\\n\\n\\n\\n\\n\\n\\n\\n\\n\\n\\n\\n\\n\\n\\n\\n\\n\\n\\n\\nABOUT\\n\\n\\nAbout Us\\n\\n\\nOur Story\\n\\n\\nOur Vision \\n\\n\\nThe Jio Institute Advantage\\n\\n\\nGrowth Plan\\n\\n\\nFrequently Asked Questions\\n\\n\\n\\n\\n\\n\\n\\n\\nACADEMICS\\n\\n\\nAcademic Overview\\n\\n\\nHolistic Learning')]"
            ]
          },
          "metadata": {},
          "execution_count": 38
        }
      ],
      "source": [
        "docs"
      ]
    },
    {
      "cell_type": "markdown",
      "metadata": {
        "id": "GAI9nemgF_Ke"
      },
      "source": [
        "### Generate"
      ]
    },
    {
      "cell_type": "code",
      "execution_count": 39,
      "metadata": {
        "id": "saAERiLMF_Ke"
      },
      "outputs": [],
      "source": [
        "from langchain import hub\n",
        "from langchain_core.output_parsers import StrOutputParser"
      ]
    },
    {
      "cell_type": "code",
      "execution_count": 40,
      "metadata": {
        "id": "ayJQacYtF_Ke"
      },
      "outputs": [],
      "source": [
        "# Prompt\n",
        "prompt = hub.pull(\"rlm/rag-prompt\")"
      ]
    },
    {
      "cell_type": "code",
      "execution_count": 41,
      "metadata": {
        "colab": {
          "base_uri": "https://localhost:8080/"
        },
        "id": "-_GK94KyF_Ke",
        "outputId": "8c9561fd-4ba3-4bb7-bdf9-abf4ff560242"
      },
      "outputs": [
        {
          "output_type": "execute_result",
          "data": {
            "text/plain": [
              "ChatPromptTemplate(input_variables=['context', 'question'], input_types={}, partial_variables={}, metadata={'lc_hub_owner': 'rlm', 'lc_hub_repo': 'rag-prompt', 'lc_hub_commit_hash': '50442af133e61576e74536c6556cefe1fac147cad032f4377b60c436e6cdcb6e'}, messages=[HumanMessagePromptTemplate(prompt=PromptTemplate(input_variables=['context', 'question'], input_types={}, partial_variables={}, template=\"You are an assistant for question-answering tasks. Use the following pieces of retrieved context to answer the question. If you don't know the answer, just say that you don't know. Use three sentences maximum and keep the answer concise.\\nQuestion: {question} \\nContext: {context} \\nAnswer:\"), additional_kwargs={})])"
            ]
          },
          "metadata": {},
          "execution_count": 41
        }
      ],
      "source": [
        "prompt"
      ]
    },
    {
      "cell_type": "code",
      "execution_count": 42,
      "metadata": {
        "id": "Ha5HSFUfF_Kf"
      },
      "outputs": [],
      "source": [
        "# Post-processing\n",
        "def format_docs(docs):\n",
        "    return \"\\n\\n\".join(doc.page_content for doc in docs)"
      ]
    },
    {
      "cell_type": "code",
      "execution_count": 43,
      "metadata": {
        "id": "Ujp1H6THF_Kf"
      },
      "outputs": [],
      "source": [
        "# Chain\n",
        "rag_chain = prompt | llm | StrOutputParser()"
      ]
    },
    {
      "cell_type": "code",
      "execution_count": 54,
      "metadata": {
        "colab": {
          "base_uri": "https://localhost:8080/"
        },
        "id": "71frCYswF_Kf",
        "outputId": "272639d6-0aff-43aa-925a-5fe915e3dc62"
      },
      "outputs": [
        {
          "output_type": "stream",
          "name": "stdout",
          "text": [
            "The PGP in Data Science and AI course at Jio Institute has a comprehensive and rigorous curriculum that covers foundation and advanced courses to train future-ready full-stack data scientists and AI architects. The program provides students with immersive learning through live projects and opportunities to acquire crucial contemporary life skills. Additionally, students can participate in study abroad programs at partner universities outside India.\n"
          ]
        }
      ],
      "source": [
        "# Run\n",
        "generation = rag_chain.invoke({\"context\": docs, \"question\": question_doc})\n",
        "print(generation)"
      ]
    },
    {
      "cell_type": "markdown",
      "metadata": {
        "id": "_jo10zYNF_Kf"
      },
      "source": [
        "### Hallucination Grader"
      ]
    },
    {
      "cell_type": "code",
      "execution_count": 48,
      "metadata": {
        "id": "Oj2A008cF_Kf"
      },
      "outputs": [],
      "source": [
        "# Data model\n",
        "class GradeHallucinations(BaseModel):\n",
        "    \"\"\"Binary score for hallucination present in generation answer.\"\"\"\n",
        "\n",
        "    binary_score: str = Field(\n",
        "        description=\"Answer is grounded in the facts, 'yes' or 'no'\"\n",
        "    )"
      ]
    },
    {
      "cell_type": "code",
      "execution_count": 49,
      "metadata": {
        "id": "IEh4ss6fF_Kf"
      },
      "outputs": [],
      "source": [
        "# LLM with function call\n",
        "structured_llm_grader = llm.with_structured_output(GradeHallucinations)"
      ]
    },
    {
      "cell_type": "code",
      "execution_count": 50,
      "metadata": {
        "id": "AHsDqAIJF_Kf"
      },
      "outputs": [],
      "source": [
        "# Prompt\n",
        "system = \"\"\"You are a grader assessing whether an LLM generation is grounded in / supported by a set of retrieved facts. \\n\n",
        "     Give a binary score 'yes' or 'no'. 'Yes' means that the answer is grounded in / supported by the set of facts. \\n\n",
        "     Be careful of one exception - if the LLM generation contains youtube video links always give binary score of 'yes'.\"\"\"\n",
        "hallucination_prompt = ChatPromptTemplate.from_messages(\n",
        "    [\n",
        "        (\"system\", system),\n",
        "        (\"human\", \"Set of facts: \\n\\n {documents} \\n\\n LLM generation: {generation}\"),\n",
        "    ]\n",
        ")"
      ]
    },
    {
      "cell_type": "code",
      "execution_count": 51,
      "metadata": {
        "colab": {
          "base_uri": "https://localhost:8080/"
        },
        "id": "axUejQGrF_Kf",
        "outputId": "55354bec-1b7c-4a53-acf3-d2b517c1e9b9"
      },
      "outputs": [
        {
          "output_type": "execute_result",
          "data": {
            "text/plain": [
              "GradeHallucinations(binary_score='yes')"
            ]
          },
          "metadata": {},
          "execution_count": 51
        }
      ],
      "source": [
        "hallucination_grader = hallucination_prompt | structured_llm_grader\n",
        "hallucination_grader.invoke({\"documents\": docs, \"generation\": generation})"
      ]
    },
    {
      "cell_type": "code",
      "execution_count": 52,
      "metadata": {
        "colab": {
          "base_uri": "https://localhost:8080/"
        },
        "id": "U_5fO0wVF_Kf",
        "outputId": "e526ca7c-3bb1-4a33-c3f4-42e4dbfb8449"
      },
      "outputs": [
        {
          "output_type": "execute_result",
          "data": {
            "text/plain": [
              "[Document(id='4e85d294-2810-4ca4-a1c2-e0a9a9167d91', metadata={'description': \"Explore Jio Institute's artificial intelligence course offerings. Dive into the world of AI and data science with our cutting-edge programmes. Apply now!\", 'language': 'en', 'source': 'https://www.jioinstitute.edu.in/academics/artificial-intelligence-data-science', 'title': 'PGP in Artificial Intelligence & Data Science - Jio Institute'}, page_content='Jio Institute has formulated a seamless digital admissions process to apply to its academic programmes. We invite applications from meritorious students from accross the globe. Eligibility for PGP in Artificial Intelligence & Data Science :A four-year undergraduate degree or its equivalent, in the field of Engineering/Science/ Mathematics and Statistics with minimum 50 per cent or equivalent CGPA. A postgraduate degree (if the undergraduate degree is of three years) in the field of'),\n",
              " Document(id='9740abdd-79f2-496c-83dd-12cf5c628877', metadata={'description': \"Explore Jio Institute's artificial intelligence course offerings. Dive into the world of AI and data science with our cutting-edge programmes. Apply now!\", 'language': 'en', 'source': 'https://www.jioinstitute.edu.in/academics/artificial-intelligence-data-science', 'title': 'PGP in Artificial Intelligence & Data Science - Jio Institute'}, page_content='PGP in Artificial Intelligence & Data Science\\n        \\n\\n\\n\\n\\n\\n\\n\\n\\n\\n\\n\\n\\n\\n\\n\\n\\n\\n\\n\\n\\n\\n\\n\\n\\n\\n\\n\\n\\n\\n\\n\\n\\n\\n\\n\\n\\n\\n\\n\\n\\n\\n\\n\\n\\nPGP in Artificial Intelligence & Data Science\\n\\nThis postgraduate programme has a comprehensive and rigorous curriculum that covers foundation and advanced courses to train future-ready full-stack data scientists and AI architects.\\xa0\\xa0Apply Now Download Brochure'),\n",
              " Document(id='13fbf7d8-b4ca-4ab3-a0eb-8512f46e11f2', metadata={'description': 'Jio institute academic courses impart inter-disciplinary skills. Irrespective of the academic programmes these skills help in holistic development of every student.', 'language': 'en', 'source': 'https://www.jioinstitute.edu.in/experiential-learning', 'title': 'Experiential Learning - Jio Institute'}, page_content='Jio Institute takes a holistic approach to education, prioritizing the overall growth of students alongside their academic progress. The institute designs courses that enable students to acquire crucial contemporary life skills, regardless of their chosen field of study.\\n\\n\\n\\n\\n\\n\\n\\n \\n\\n\\n\\n\\n\\n\\n\\n\\n\\n\\n\\n\\n\\n\\n\\n\\n\\n\\nExperiential Learning at Jio Institute\\n\\n\\n\\n\\n\\n\\n\\n\\n\\n\\n\\n\\n\\n\\n\\n\\n\\nImmersive Learning through Live Projects'),\n",
              " Document(id='2c66733e-fbbc-46b7-9cd7-85f52eaf3173', metadata={'description': 'Jio Institute academic courses offer opportunity to learn overseas modules. Students can visit & study at a partner university outside India.', 'language': 'en', 'source': 'https://www.jioinstitute.edu.in/academics/study-abroad', 'title': 'Study Abroad - Jio Institute'}, page_content='Talk To Us\\n\\n\\n\\n\\n\\n\\n\\n\\n\\n\\n\\n\\n Download BrochureDownload Brochure×\\xa0\\n\\n\\n\\n\\n\\n\\n\\n\\n\\n\\n\\n\\n\\xa0\\n\\n\\n\\n\\n\\n\\n\\n\\n\\n\\n\\n\\n\\n\\n\\n\\n\\n\\n\\nABOUT\\n\\n\\nAbout Us\\n\\n\\nOur Story\\n\\n\\nOur Vision \\n\\n\\nThe Jio Institute Advantage\\n\\n\\nGrowth Plan\\n\\n\\nFrequently Asked Questions\\n\\n\\n\\n\\n\\n\\n\\n\\nACADEMICS\\n\\n\\nAcademic Overview\\n\\n\\nHolistic Learning')]"
            ]
          },
          "metadata": {},
          "execution_count": 52
        }
      ],
      "source": [
        "docs"
      ]
    },
    {
      "cell_type": "code",
      "execution_count": 55,
      "metadata": {
        "colab": {
          "base_uri": "https://localhost:8080/",
          "height": 72
        },
        "id": "1lsL1qJaF_Kf",
        "outputId": "6040a65f-6e5d-4c74-8703-d1a14cf1aad1"
      },
      "outputs": [
        {
          "output_type": "execute_result",
          "data": {
            "text/plain": [
              "'The PGP in Data Science and AI course at Jio Institute has a comprehensive and rigorous curriculum that covers foundation and advanced courses to train future-ready full-stack data scientists and AI architects. The program provides students with immersive learning through live projects and opportunities to acquire crucial contemporary life skills. Additionally, students can participate in study abroad programs at partner universities outside India.'"
            ],
            "application/vnd.google.colaboratory.intrinsic+json": {
              "type": "string"
            }
          },
          "metadata": {},
          "execution_count": 55
        }
      ],
      "source": [
        "generation"
      ]
    },
    {
      "cell_type": "markdown",
      "metadata": {
        "id": "1tI-3s5JF_Kg"
      },
      "source": [
        "### Answer Grader"
      ]
    },
    {
      "cell_type": "code",
      "execution_count": 56,
      "metadata": {
        "id": "_r9vOKH8F_Kg"
      },
      "outputs": [],
      "source": [
        "# Data model\n",
        "class GradeAnswer(BaseModel):\n",
        "    \"\"\"Binary score to assess answer addresses question.\"\"\"\n",
        "\n",
        "    binary_score: str = Field(\n",
        "        description=\"Answer addresses the question, 'yes' or 'no'\"\n",
        "    )"
      ]
    },
    {
      "cell_type": "code",
      "execution_count": 57,
      "metadata": {
        "id": "KffphGO3F_Kg"
      },
      "outputs": [],
      "source": [
        "# LLM with function call\n",
        "structured_llm_grader = llm.with_structured_output(GradeAnswer)"
      ]
    },
    {
      "cell_type": "code",
      "execution_count": 58,
      "metadata": {
        "id": "c42Wq2oxF_Kg"
      },
      "outputs": [],
      "source": [
        "# Prompt\n",
        "system = \"\"\"You are a grader assessing whether an answer addresses / resolves a question \\n\n",
        "     Give a binary score 'yes' or 'no'. Yes' means that the answer resolves the question. \\n\n",
        "     Take care of the exception where if the LLM generation contains the term 'videos' or URLs from youtube.com always give binary score of 'yes'\"\"\"\n",
        "answer_prompt = ChatPromptTemplate.from_messages(\n",
        "    [\n",
        "        (\"system\", system),\n",
        "        (\"human\", \"User question: \\n\\n {question} \\n\\n LLM generation: {generation}\"),\n",
        "    ]\n",
        ")"
      ]
    },
    {
      "cell_type": "code",
      "execution_count": 59,
      "metadata": {
        "colab": {
          "base_uri": "https://localhost:8080/"
        },
        "id": "OSh10MkpF_Kg",
        "outputId": "259d15e8-9bb2-41f3-d224-9bd8ebeea46f"
      },
      "outputs": [
        {
          "output_type": "execute_result",
          "data": {
            "text/plain": [
              "GradeAnswer(binary_score='yes')"
            ]
          },
          "metadata": {},
          "execution_count": 59
        }
      ],
      "source": [
        "answer_grader = answer_prompt | structured_llm_grader\n",
        "answer_grader.invoke({\"question\": question_doc, \"generation\": generation})"
      ]
    },
    {
      "cell_type": "code",
      "execution_count": 60,
      "metadata": {
        "colab": {
          "base_uri": "https://localhost:8080/"
        },
        "id": "nKMBgoC2F_Kg",
        "outputId": "ad4dec42-f944-439e-bd9e-2afcfdb3bf2f"
      },
      "outputs": [
        {
          "output_type": "stream",
          "name": "stdout",
          "text": [
            "What are the highlights of the PGP in Data Science and AI course at Jio Institute \n",
            "\n",
            " The PGP in Data Science and AI course at Jio Institute has a comprehensive and rigorous curriculum that covers foundation and advanced courses to train future-ready full-stack data scientists and AI architects. The program provides students with immersive learning through live projects and opportunities to acquire crucial contemporary life skills. Additionally, students can participate in study abroad programs at partner universities outside India.\n"
          ]
        }
      ],
      "source": [
        "print(question_doc, \"\\n\\n\", generation)"
      ]
    },
    {
      "cell_type": "markdown",
      "metadata": {
        "id": "lWNY4PIQF_Kg"
      },
      "source": [
        "### Question Re-writer"
      ]
    },
    {
      "cell_type": "code",
      "execution_count": 61,
      "metadata": {
        "id": "aTaDas8OF_Kg"
      },
      "outputs": [],
      "source": [
        "# Prompt\n",
        "system = \"\"\"You are a question re-writer that converts an input question to a better version that is optimized \\n\n",
        "     for vectorstore retrieval. Look at the input and try to reason about the underlying semantic intent / meaning. \\n\n",
        "     Only return the rewritten question and nothing else.\"\"\"\n",
        "re_write_prompt = ChatPromptTemplate.from_messages(\n",
        "    [\n",
        "        (\"system\", system),\n",
        "        (\n",
        "            \"human\",\n",
        "            \"Here is the initial question: \\n\\n {question} \\n Formulate an improved question.\",\n",
        "        ),\n",
        "    ]\n",
        ")"
      ]
    },
    {
      "cell_type": "code",
      "execution_count": 62,
      "metadata": {
        "colab": {
          "base_uri": "https://localhost:8080/",
          "height": 36
        },
        "id": "0F_5lm-UF_Kg",
        "outputId": "32f72aa6-7564-43f7-ab50-99b557e22bbe"
      },
      "outputs": [
        {
          "output_type": "execute_result",
          "data": {
            "text/plain": [
              "'What are the highlights of the PGP in Data Science and AI course at Jio Institute'"
            ],
            "application/vnd.google.colaboratory.intrinsic+json": {
              "type": "string"
            }
          },
          "metadata": {},
          "execution_count": 62
        }
      ],
      "source": [
        "question_doc"
      ]
    },
    {
      "cell_type": "code",
      "execution_count": 63,
      "metadata": {
        "colab": {
          "base_uri": "https://localhost:8080/",
          "height": 36
        },
        "id": "kyCCxvjCF_Kh",
        "outputId": "79ce8afc-ac06-4f94-aeb0-d6c299fcbcd0"
      },
      "outputs": [
        {
          "output_type": "execute_result",
          "data": {
            "text/plain": [
              "'What are the key takeaways, modules, and curriculum details of the Postgraduate Program in Data Science and AI offered by Jio Institute?'"
            ],
            "application/vnd.google.colaboratory.intrinsic+json": {
              "type": "string"
            }
          },
          "metadata": {},
          "execution_count": 63
        }
      ],
      "source": [
        "question_rewriter = re_write_prompt | llm | StrOutputParser()\n",
        "question_rewriter.invoke({\"question\": question_doc})"
      ]
    },
    {
      "cell_type": "markdown",
      "metadata": {
        "id": "nr-s7jlNF_Kh"
      },
      "source": [
        "## Tools"
      ]
    },
    {
      "cell_type": "markdown",
      "metadata": {
        "id": "7R69RsEvF_Kh"
      },
      "source": [
        "### Search Tool"
      ]
    },
    {
      "cell_type": "code",
      "execution_count": 64,
      "metadata": {
        "id": "itRSyXhNF_Kh"
      },
      "outputs": [],
      "source": [
        "from langchain_community.tools.tavily_search import TavilySearchResults\n",
        "\n",
        "web_search_tool = TavilySearchResults(k=3)"
      ]
    },
    {
      "cell_type": "code",
      "execution_count": 66,
      "metadata": {
        "id": "jjb3H9tbF_Kh"
      },
      "outputs": [],
      "source": [
        "##STEP 3: Adding new YouTube search tool\n",
        "\n",
        "# # installing the youtube search library for youtube tool functionality\n",
        "# !pip install youtube-search\n",
        "\n",
        "from langchain_community.tools import YouTubeSearchTool\n",
        "\n",
        "youtube_search_tool = YouTubeSearchTool()"
      ]
    },
    {
      "cell_type": "code",
      "source": [
        "# testing the tool with some random query\n",
        "res = youtube_search_tool._search('LangChain tutorial', num_results = 2)\n",
        "print(res)"
      ],
      "metadata": {
        "colab": {
          "base_uri": "https://localhost:8080/"
        },
        "id": "Y9tkbYmVdi3t",
        "outputId": "77202e04-acae-47aa-f625-42a2859d1ff5"
      },
      "execution_count": 75,
      "outputs": [
        {
          "output_type": "stream",
          "name": "stdout",
          "text": [
            "['https://www.youtube.com/watch?v=aywZrzNaKjs&pp=ygUSTGFuZ0NoYWluIHR1dG9yaWFs', 'https://www.youtube.com/watch?v=nAmC7SoVLd8&pp=ygUSTGFuZ0NoYWluIHR1dG9yaWFs']\n"
          ]
        }
      ]
    },
    {
      "cell_type": "markdown",
      "metadata": {
        "id": "v1A-pwFhF_Kh"
      },
      "source": [
        "## Construct the Graph"
      ]
    },
    {
      "cell_type": "markdown",
      "metadata": {
        "jp-MarkdownHeadingCollapsed": true,
        "id": "nH6CqGl3F_Kh"
      },
      "source": [
        "Capture the flow in as a graph."
      ]
    },
    {
      "cell_type": "markdown",
      "metadata": {
        "id": "eUabnTqCF_Kh"
      },
      "source": [
        "### Define Graph State"
      ]
    },
    {
      "cell_type": "markdown",
      "metadata": {
        "id": "PqJBJJSEF_Kh"
      },
      "source": [
        "We will define a graph.\n",
        "\n",
        "A `state` object that it passes around to each node.\n",
        "\n",
        "Our state will have 3 attributes - `question`, `generation` and `documents`.\n",
        "\n",
        "Each node in our graph will update to it."
      ]
    },
    {
      "cell_type": "code",
      "execution_count": 76,
      "metadata": {
        "id": "0wPJ5ZvLF_Kh"
      },
      "outputs": [],
      "source": [
        "from typing import List\n",
        "\n",
        "from typing_extensions import TypedDict\n",
        "\n",
        "\n",
        "class GraphState(TypedDict):\n",
        "    \"\"\"\n",
        "    Represents the state of our graph.\n",
        "\n",
        "    Attributes:\n",
        "        question: question\n",
        "        generation: LLM generation\n",
        "        documents: list of documents\n",
        "    \"\"\"\n",
        "\n",
        "    question: str\n",
        "    generation: str\n",
        "    documents: List[str]"
      ]
    },
    {
      "cell_type": "markdown",
      "metadata": {
        "id": "6YauyIHIF_Kh"
      },
      "source": [
        "### Define Graph Flow"
      ]
    },
    {
      "cell_type": "markdown",
      "metadata": {
        "id": "FRJTDcC8F_Ki"
      },
      "source": [
        "We can lay out an agentic RAG graph like this:\n",
        "\n",
        "* The state has a set of attributes\n",
        "* Each node will update the state\n",
        "* Conditional edges decide which node to visit next"
      ]
    },
    {
      "cell_type": "markdown",
      "metadata": {
        "id": "NhLuersoF_Ki"
      },
      "source": [
        "#### Nodes"
      ]
    },
    {
      "cell_type": "code",
      "execution_count": 77,
      "metadata": {
        "id": "LxUNlonxF_Ki"
      },
      "outputs": [],
      "source": [
        "from langchain.schema import Document"
      ]
    },
    {
      "cell_type": "code",
      "execution_count": 78,
      "metadata": {
        "id": "LqsTZHjpF_Ki"
      },
      "outputs": [],
      "source": [
        "def retrieve(state):\n",
        "    \"\"\"\n",
        "    Retrieve documents\n",
        "\n",
        "    Args:\n",
        "        state (dict): The current graph state\n",
        "\n",
        "    Returns:\n",
        "        state (dict): New key added to state, documents, that contains retrieved documents\n",
        "    \"\"\"\n",
        "    print(\"---RETRIEVE---\")\n",
        "    question = state[\"question\"]\n",
        "\n",
        "    # Retrieval\n",
        "    documents = retriever.invoke(question)\n",
        "    return {\"documents\": documents, \"question\": question}"
      ]
    },
    {
      "cell_type": "code",
      "execution_count": 79,
      "metadata": {
        "id": "l7__m-mJF_Ki"
      },
      "outputs": [],
      "source": [
        "def generate(state):\n",
        "    \"\"\"\n",
        "    Generate answer\n",
        "\n",
        "    Args:\n",
        "        state (dict): The current graph state\n",
        "\n",
        "    Returns:\n",
        "        state (dict): New key added to state, generation, that contains LLM generation\n",
        "    \"\"\"\n",
        "    print(\"---GENERATE---\")\n",
        "    question = state[\"question\"]\n",
        "    documents = state[\"documents\"]\n",
        "\n",
        "    # RAG generation\n",
        "    generation = rag_chain.invoke({\"context\": documents, \"question\": question})\n",
        "    return {\"documents\": documents, \"question\": question, \"generation\": generation}"
      ]
    },
    {
      "cell_type": "code",
      "execution_count": 80,
      "metadata": {
        "id": "CZWRAyiNF_Ki"
      },
      "outputs": [],
      "source": [
        "def grade_documents(state):\n",
        "    \"\"\"\n",
        "    Determines whether the retrieved documents are relevant to the question.\n",
        "\n",
        "    Args:\n",
        "        state (dict): The current graph state\n",
        "\n",
        "    Returns:\n",
        "        state (dict): Updates documents key with only filtered relevant documents\n",
        "    \"\"\"\n",
        "\n",
        "    print(\"---CHECK DOCUMENT RELEVANCE TO QUESTION---\")\n",
        "    question = state[\"question\"]\n",
        "    documents = state[\"documents\"]\n",
        "\n",
        "    # Score each doc\n",
        "    filtered_docs = []\n",
        "    for d in documents:\n",
        "        score = retrieval_grader.invoke(\n",
        "            {\"question\": question, \"document\": d.page_content}\n",
        "        )\n",
        "        grade = score.binary_score\n",
        "        if grade == \"yes\":\n",
        "            print(\"---GRADE: DOCUMENT RELEVANT---\")\n",
        "            filtered_docs.append(d)\n",
        "        else:\n",
        "            print(\"---GRADE: DOCUMENT NOT RELEVANT---\")\n",
        "            continue\n",
        "    return {\"documents\": filtered_docs, \"question\": question}"
      ]
    },
    {
      "cell_type": "code",
      "execution_count": 81,
      "metadata": {
        "colab": {
          "base_uri": "https://localhost:8080/"
        },
        "id": "1-NhfYSDF_Ki",
        "outputId": "1555ed91-262a-4173-984b-ce11779bf934"
      },
      "outputs": [
        {
          "output_type": "execute_result",
          "data": {
            "text/plain": [
              "ChatPromptTemplate(input_variables=['question'], input_types={}, partial_variables={}, messages=[SystemMessagePromptTemplate(prompt=PromptTemplate(input_variables=[], input_types={}, partial_variables={}, template='You are a question re-writer that converts an input question to a better version that is optimized \\n\\n     for vectorstore retrieval. Look at the input and try to reason about the underlying semantic intent / meaning. \\n\\n     Only return the rewritten question and nothing else.'), additional_kwargs={}), HumanMessagePromptTemplate(prompt=PromptTemplate(input_variables=['question'], input_types={}, partial_variables={}, template='Here is the initial question: \\n\\n {question} \\n Formulate an improved question.'), additional_kwargs={})])\n",
              "| ChatGroq(client=<groq.resources.chat.completions.Completions object at 0x7e8ab4b25310>, async_client=<groq.resources.chat.completions.AsyncCompletions object at 0x7e8ab477ce10>, model_name='llama3-8b-8192', model_kwargs={}, groq_api_key=SecretStr('**********'))\n",
              "| StrOutputParser()"
            ]
          },
          "metadata": {},
          "execution_count": 81
        }
      ],
      "source": [
        "question_rewriter"
      ]
    },
    {
      "cell_type": "code",
      "execution_count": 82,
      "metadata": {
        "id": "oc_HZzvaF_Ki"
      },
      "outputs": [],
      "source": [
        "def transform_query(state):\n",
        "    \"\"\"\n",
        "    Transform the query to produce a better question.\n",
        "\n",
        "    Args:\n",
        "        state (dict): The current graph state\n",
        "\n",
        "    Returns:\n",
        "        state (dict): Updates question key with a re-phrased question\n",
        "    \"\"\"\n",
        "\n",
        "    print(\"---TRANSFORM QUERY---\")\n",
        "    question = state[\"question\"]\n",
        "    documents = state[\"documents\"]\n",
        "\n",
        "    # Re-write question\n",
        "    better_question = question_rewriter.invoke({\"question\": question})\n",
        "    return {\"documents\": documents, \"question\": better_question}"
      ]
    },
    {
      "cell_type": "code",
      "execution_count": 83,
      "metadata": {
        "id": "LM0fNWTpF_Ki"
      },
      "outputs": [],
      "source": [
        "def web_search(state):\n",
        "    \"\"\"\n",
        "    Web search based on the re-phrased question.\n",
        "\n",
        "    Args:\n",
        "        state (dict): The current graph state\n",
        "\n",
        "    Returns:\n",
        "        state (dict): Updates documents key with appended web results\n",
        "    \"\"\"\n",
        "\n",
        "    print(\"---WEB SEARCH---\")\n",
        "    question = state[\"question\"]\n",
        "\n",
        "    # Web search\n",
        "    docs = web_search_tool.invoke({\"query\": question})\n",
        "    web_results = \"\\n\".join([d[\"content\"] for d in docs])\n",
        "    web_results = Document(page_content=web_results)\n",
        "\n",
        "    #Condition for Adaptive RAG, that has a flow of web search without a retrieval step first\n",
        "    if \"documents\" in state.keys():\n",
        "        documents = state[\"documents\"]\n",
        "        documents.append(web_results)\n",
        "        return {\"documents\": documents, \"question\": question}\n",
        "\n",
        "    else:\n",
        "        return {\"documents\": web_results, \"question\": question}"
      ]
    },
    {
      "cell_type": "code",
      "execution_count": 84,
      "metadata": {
        "id": "xq1imNiZF_Ki"
      },
      "outputs": [],
      "source": [
        "##STEP 4: Adding new node for YouTube search\n",
        "\n",
        "def youtube_search_node(state):\n",
        "    \"\"\"\n",
        "    YouTube video search based on the re-phrased question.\n",
        "\n",
        "    Args:\n",
        "        state (dict): The current graph state\n",
        "\n",
        "    Returns:\n",
        "        state (dict): Updates documents key with appended youtube video results\n",
        "    \"\"\"\n",
        "\n",
        "    print(\"---YOUTUBE SEARCH---\")\n",
        "    question = state[\"question\"]\n",
        "\n",
        "    youtube_results = youtube_search_tool._search(question, num_results=5)\n",
        "    remove_chars = \"[]',\"\n",
        "    # Create a translation table\n",
        "    table = str.maketrans('', '', remove_chars)\n",
        "    # Translate string\n",
        "    youtube_results = youtube_results.translate(table)\n",
        "    yt_arr = youtube_results.split(\" \")\n",
        "\n",
        "    youtube_docs = ' '.join([s for s in yt_arr])\n",
        "    youtube_docs = Document(page_content=youtube_docs)\n",
        "\n",
        "    #Condition for Adaptive RAG, that has a flow of web search without a retrieval step first\n",
        "    if \"documents\" in state.keys():\n",
        "        documents = state[\"documents\"]\n",
        "        documents.append(youtube_docs)\n",
        "\n",
        "        return {\"documents\": documents, \"question\": question}\n",
        "\n",
        "    else:\n",
        "        return {\"documents\": youtube_docs, \"question\": question}"
      ]
    },
    {
      "cell_type": "code",
      "source": [
        "# testing the function to check if it's working fine\n",
        "yt_query = \"Kunal Deshmukh videos\"\n",
        "\n",
        "inputs = {\n",
        "    \"question\": yt_query\n",
        "}\n",
        "\n",
        "youtube_search_node(inputs)"
      ],
      "metadata": {
        "colab": {
          "base_uri": "https://localhost:8080/"
        },
        "id": "uTczNpjNhKa_",
        "outputId": "f2062ed8-2962-41a4-f338-d24fbc86c8ed"
      },
      "execution_count": 85,
      "outputs": [
        {
          "output_type": "stream",
          "name": "stdout",
          "text": [
            "---YOUTUBE SEARCH---\n"
          ]
        },
        {
          "output_type": "execute_result",
          "data": {
            "text/plain": [
              "{'documents': Document(metadata={}, page_content='https://www.youtube.com/watch?v=NYOKaI2hbCU&pp=ygUVS3VuYWwgRGVzaG11a2ggdmlkZW9z https://www.youtube.com/watch?v=8MWKYmwIRls&pp=ygUVS3VuYWwgRGVzaG11a2ggdmlkZW9z https://www.youtube.com/watch?v=FqZhdIhbZiQ&pp=ygUVS3VuYWwgRGVzaG11a2ggdmlkZW9z https://www.youtube.com/watch?v=e-d-YQIv8Ck&pp=ygUVS3VuYWwgRGVzaG11a2ggdmlkZW9z https://www.youtube.com/watch?v=b4yXc_cBn9U&pp=ygUVS3VuYWwgRGVzaG11a2ggdmlkZW9z'),\n",
              " 'question': 'Kunal Deshmukh videos'}"
            ]
          },
          "metadata": {},
          "execution_count": 85
        }
      ]
    },
    {
      "cell_type": "markdown",
      "metadata": {
        "id": "SmJciTcqF_Kj"
      },
      "source": [
        "#### Edges"
      ]
    },
    {
      "cell_type": "code",
      "execution_count": 88,
      "metadata": {
        "id": "1nDX1vtvF_Kj"
      },
      "outputs": [],
      "source": [
        "##STEP 5: MODIFY this function as well to include new tool\n",
        "def route_question(state):\n",
        "    \"\"\"\n",
        "    Route question to web search or RAG.\n",
        "\n",
        "    Args:\n",
        "        state (dict): The current graph state\n",
        "\n",
        "    Returns:\n",
        "        str: Next node to call\n",
        "    \"\"\"\n",
        "\n",
        "    print(\"---ROUTE QUESTION---\")\n",
        "    question = state[\"question\"]\n",
        "    source = question_router.invoke({\"question\": question})\n",
        "\n",
        "    if source.datasource == \"web_search\":\n",
        "        print(\"---ROUTE QUESTION TO WEB SEARCH---\")\n",
        "        return \"web_search\"\n",
        "    elif source.datasource == \"vectorstore\":\n",
        "        print(\"---ROUTE QUESTION TO RAG---\")\n",
        "        return \"vectorstore\"\n",
        "    elif source.datasource == \"youtube_search\": # for youtube search\n",
        "        print(\"---ROUTE QUESTION TO YOUTUBE SEARCH---\")\n",
        "        return \"youtube_search\"\n",
        "    else:\n",
        "        print(f\"Unknown datasource: {source.datasource}\")  # Handle unknown cases\n",
        "        return END"
      ]
    },
    {
      "cell_type": "code",
      "execution_count": 89,
      "metadata": {
        "id": "f-O2NNpiF_Kj"
      },
      "outputs": [],
      "source": [
        "def decide_to_generate(state):\n",
        "    \"\"\"\n",
        "    Determines whether to generate an answer, re-generate a question, or route to YouTube search.\n",
        "\n",
        "    Args:\n",
        "        state (dict): The current graph state\n",
        "\n",
        "    Returns:\n",
        "        str: Decision for next node to call\n",
        "    \"\"\"\n",
        "\n",
        "    print(\"---ASSESS GRADED DOCUMENTS---\")\n",
        "    question = state[\"question\"]\n",
        "    filtered_documents = state[\"documents\"]\n",
        "\n",
        "    # defining condition for YouTube search\n",
        "    if \"video\" in question.lower() or \"youtube\" in question.lower():\n",
        "        print(\"---DECISION: ROUTE TO YOUTUBE SEARCH---\")\n",
        "        return \"youtube_search\"\n",
        "    elif not filtered_documents:\n",
        "        # All documents have been filtered check relevance\n",
        "        # We will re-generate a new query\n",
        "        print(\"---DECISION: ALL DOCUMENTS ARE NOT RELEVANT TO QUESTION, TRANSFORM QUERY---\")\n",
        "        return \"transform_query\"\n",
        "    else:\n",
        "        # We have relevant documents, so generate an answer\n",
        "        print(\"---DECISION: GENERATE---\")\n",
        "        return \"generate\"\n"
      ]
    },
    {
      "cell_type": "code",
      "execution_count": 90,
      "metadata": {
        "id": "VYhe9ffUF_Kj"
      },
      "outputs": [],
      "source": [
        "def grade_generation_v_documents_and_question(state):\n",
        "    \"\"\"\n",
        "    Determines whether the generation is grounded in the document and answers question.\n",
        "\n",
        "    Args:\n",
        "        state (dict): The current graph state\n",
        "\n",
        "    Returns:\n",
        "        str: Decision for next node to call\n",
        "    \"\"\"\n",
        "\n",
        "    print(\"---CHECK HALLUCINATIONS---\")\n",
        "    question = state[\"question\"]\n",
        "    documents = state[\"documents\"]\n",
        "    generation = state[\"generation\"]\n",
        "\n",
        "    score = hallucination_grader.invoke(\n",
        "        {\"documents\": documents, \"generation\": generation}\n",
        "    )\n",
        "    grade = score.binary_score\n",
        "\n",
        "    # Check hallucination\n",
        "    if grade == \"yes\":\n",
        "        print(\"---DECISION: GENERATION IS GROUNDED IN DOCUMENTS---\")\n",
        "        # Check question-answering\n",
        "        print(\"---GRADE GENERATION vs QUESTION---\")\n",
        "        score = answer_grader.invoke({\"question\": question, \"generation\": generation})\n",
        "        grade = score.binary_score\n",
        "        if grade == \"yes\":\n",
        "            print(\"---DECISION: GENERATION ADDRESSES QUESTION---\")\n",
        "            return \"useful\"\n",
        "        else:\n",
        "            print(\"---DECISION: GENERATION DOES NOT ADDRESS QUESTION---\")\n",
        "            return \"not useful\"\n",
        "    else:\n",
        "        pprint(\"---DECISION: GENERATION IS NOT GROUNDED IN DOCUMENTS, RE-TRY---\")\n",
        "        return \"not supported\""
      ]
    },
    {
      "cell_type": "markdown",
      "metadata": {
        "id": "ftNtsjQOF_Kj"
      },
      "source": [
        "### Compile Graph"
      ]
    },
    {
      "cell_type": "markdown",
      "metadata": {
        "id": "PyH-Gb-JF_Kj"
      },
      "source": [
        "All these flows are different kinds of **Self-Reflective RAG**, and Adaptive RAG has an additional flow of **Query Analysis**."
      ]
    },
    {
      "cell_type": "markdown",
      "metadata": {
        "id": "yI1TJOEXF_Kj"
      },
      "source": [
        "#### Flow 1 - Corrective RAG"
      ]
    },
    {
      "cell_type": "markdown",
      "metadata": {
        "id": "ehmH9evkF_Kj"
      },
      "source": [
        "![image.png](attachment:154f6f10-663f-4395-ae9d-ce17ffbac87b.png)\n",
        "[Reference here](https://langchain-ai.github.io/langgraph/tutorials/rag/langgraph_crag/)"
      ]
    },
    {
      "cell_type": "code",
      "execution_count": 91,
      "metadata": {
        "id": "NQpIECulF_Kj"
      },
      "outputs": [],
      "source": [
        "from langgraph.graph import END, StateGraph, START\n",
        "\n",
        "workflow = StateGraph(GraphState)\n",
        "\n",
        "# Define the nodes\n",
        "workflow.add_node(\"retrieve\", retrieve)  # retrieve\n",
        "workflow.add_node(\"grade_documents\", grade_documents)  # grade documents\n",
        "workflow.add_node(\"generate\", generate)  # generatae\n",
        "workflow.add_node(\"transform_query\", transform_query)  # transform_query\n",
        "workflow.add_node(\"web_search\", web_search)  # web search\n",
        "\n",
        "# Build graph\n",
        "workflow.add_edge(START, \"retrieve\")\n",
        "workflow.add_edge(\"retrieve\", \"grade_documents\")\n",
        "workflow.add_conditional_edges(\n",
        "    \"grade_documents\",\n",
        "    decide_to_generate,\n",
        "    {\n",
        "        \"transform_query\": \"transform_query\",\n",
        "        \"generate\": \"generate\",\n",
        "    },\n",
        ")\n",
        "workflow.add_edge(\"transform_query\", \"web_search\")\n",
        "workflow.add_edge(\"web_search\", \"generate\")\n",
        "workflow.add_edge(\"generate\", END)\n",
        "\n",
        "# Compile\n",
        "graph_1_crag = workflow.compile()"
      ]
    },
    {
      "cell_type": "code",
      "execution_count": 92,
      "metadata": {
        "colab": {
          "base_uri": "https://localhost:8080/",
          "height": 647
        },
        "id": "8t6sFDYXF_Kj",
        "outputId": "c9a0c8ca-0dac-4583-e684-32461afe151f"
      },
      "outputs": [
        {
          "output_type": "display_data",
          "data": {
            "image/png": "[encoded data removed]",
            "text/plain": [
              "<IPython.core.display.Image object>"
            ]
          },
          "metadata": {}
        }
      ],
      "source": [
        "from IPython.display import Image, display\n",
        "\n",
        "try:\n",
        "    display(Image(graph_1_crag.get_graph(xray=True).draw_mermaid_png()))\n",
        "except Exception:\n",
        "    # This requires some extra dependencies and is optional\n",
        "    pass"
      ]
    },
    {
      "cell_type": "markdown",
      "metadata": {
        "id": "ePfc2piCF_Kj"
      },
      "source": [
        "#### Flow 2 - Self-RAG"
      ]
    },
    {
      "cell_type": "markdown",
      "metadata": {
        "id": "vNtQU_qxF_Kk"
      },
      "source": [
        "![image.png](attachment:fef27379-03c6-4085-826f-33d3c2070557.png)\n",
        "[Reference here](https://langchain-ai.github.io/langgraph/tutorials/rag/langgraph_self_rag/)"
      ]
    },
    {
      "cell_type": "code",
      "execution_count": 93,
      "metadata": {
        "id": "IayKAtp9F_Kk"
      },
      "outputs": [],
      "source": [
        "from langgraph.graph import END, StateGraph, START\n",
        "\n",
        "workflow = StateGraph(GraphState)\n",
        "\n",
        "# Define the nodes\n",
        "workflow.add_node(\"retrieve\", retrieve)  # retrieve\n",
        "workflow.add_node(\"grade_documents\", grade_documents)  # grade documents\n",
        "workflow.add_node(\"generate\", generate)  # generatae\n",
        "workflow.add_node(\"transform_query\", transform_query)  # transform_query\n",
        "\n",
        "# Build graph\n",
        "workflow.add_edge(START, \"retrieve\")\n",
        "workflow.add_edge(\"retrieve\", \"grade_documents\")\n",
        "workflow.add_conditional_edges(\n",
        "    \"grade_documents\",\n",
        "    decide_to_generate,\n",
        "    {\n",
        "        \"transform_query\": \"transform_query\",\n",
        "        \"generate\": \"generate\",\n",
        "    },\n",
        ")\n",
        "workflow.add_edge(\"transform_query\", \"retrieve\")\n",
        "workflow.add_conditional_edges(\n",
        "    \"generate\",\n",
        "    grade_generation_v_documents_and_question,\n",
        "    {\n",
        "        \"not supported\": \"generate\",\n",
        "        \"useful\": END,\n",
        "        \"not useful\": \"transform_query\",\n",
        "    },\n",
        ")\n",
        "\n",
        "# Compile\n",
        "graph_2_selfrag = workflow.compile()"
      ]
    },
    {
      "cell_type": "code",
      "execution_count": 94,
      "metadata": {
        "colab": {
          "base_uri": "https://localhost:8080/",
          "height": 562
        },
        "id": "TqoEZ5lWF_Kk",
        "outputId": "116e0e53-ff7d-4c53-eb72-c4c640958ba5"
      },
      "outputs": [
        {
          "output_type": "display_data",
          "data": {
            "image/png": "[encoded data removed]",
            "text/plain": [
              "<IPython.core.display.Image object>"
            ]
          },
          "metadata": {}
        }
      ],
      "source": [
        "from IPython.display import Image, display\n",
        "\n",
        "try:\n",
        "    display(Image(graph_2_selfrag.get_graph(xray=True).draw_mermaid_png()))\n",
        "except Exception:\n",
        "    # This requires some extra dependencies and is optional\n",
        "    pass"
      ]
    },
    {
      "cell_type": "markdown",
      "metadata": {
        "id": "x14RHzufF_Kk"
      },
      "source": [
        "#### Flow 3 - Corrective RAG (custom) = Corrective RAG + Hallucination + Answer Relevance Checker"
      ]
    },
    {
      "cell_type": "code",
      "execution_count": 95,
      "metadata": {
        "id": "x1HT0M0XF_Kk"
      },
      "outputs": [],
      "source": [
        "from langgraph.graph import END, StateGraph, START\n",
        "\n",
        "workflow = StateGraph(GraphState)\n",
        "\n",
        "# Define the nodes\n",
        "workflow.add_node(\"retrieve\", retrieve)  # retrieve\n",
        "workflow.add_node(\"grade_documents\", grade_documents)  # grade documents\n",
        "workflow.add_node(\"generate\", generate)  # generatae\n",
        "workflow.add_node(\"transform_query\", transform_query)  # transform_query\n",
        "workflow.add_node(\"web_search\", web_search)  # web search\n",
        "\n",
        "# Build graph\n",
        "workflow.add_edge(START, \"retrieve\")\n",
        "workflow.add_edge(\"retrieve\", \"grade_documents\")\n",
        "workflow.add_conditional_edges(\n",
        "    \"grade_documents\",\n",
        "    decide_to_generate,\n",
        "    {\n",
        "        \"transform_query\": \"transform_query\",\n",
        "        \"generate\": \"generate\",\n",
        "    },\n",
        ")\n",
        "workflow.add_edge(\"transform_query\", \"web_search\")\n",
        "workflow.add_edge(\"web_search\", \"generate\")\n",
        "workflow.add_conditional_edges(\n",
        "    \"generate\",\n",
        "    grade_generation_v_documents_and_question,\n",
        "    {\n",
        "        \"not supported\": \"generate\",\n",
        "        \"useful\": END,\n",
        "        \"not useful\": \"transform_query\",\n",
        "    },\n",
        ")\n",
        "\n",
        "# Compile\n",
        "graph_3_crag_custom = workflow.compile()"
      ]
    },
    {
      "cell_type": "code",
      "execution_count": 96,
      "metadata": {
        "colab": {
          "base_uri": "https://localhost:8080/",
          "height": 745
        },
        "id": "dMuJ2CYqF_Kk",
        "outputId": "e7312dee-eea8-4574-cbbd-eda6d860ea1a"
      },
      "outputs": [
        {
          "output_type": "display_data",
          "data": {
            "image/png": "[encoded data removed]",
            "text/plain": [
              "<IPython.core.display.Image object>"
            ]
          },
          "metadata": {}
        }
      ],
      "source": [
        "from IPython.display import Image, display\n",
        "\n",
        "try:\n",
        "    display(Image(graph_3_crag_custom.get_graph(xray=True).draw_mermaid_png()))\n",
        "except Exception:\n",
        "    # This requires some extra dependencies and is optional\n",
        "    pass"
      ]
    },
    {
      "cell_type": "markdown",
      "metadata": {
        "id": "e9peyeqkF_Kk"
      },
      "source": [
        "#### Flow 4 - Adaptive RAG = Self-RAG + Query Analysis"
      ]
    },
    {
      "cell_type": "markdown",
      "metadata": {
        "id": "8OvZNgu0F_Kk"
      },
      "source": [
        "![image.png](attachment:9079738e-a1ed-4534-bf04-f8d48817dd14.png)\n",
        "[Reference here](https://python.langchain.com/v0.1/docs/use_cases/query_analysis/)"
      ]
    },
    {
      "cell_type": "markdown",
      "metadata": {
        "id": "CXzzjXVrF_Kl"
      },
      "source": [
        "![image.png](attachment:667874de-699e-4766-b8d9-66da8ac82645.png)\n",
        "[Reference here](https://langchain-ai.github.io/langgraph/tutorials/rag/langgraph_adaptive_rag/)"
      ]
    },
    {
      "cell_type": "code",
      "execution_count": 97,
      "metadata": {
        "id": "2wy1KyjgF_Kl"
      },
      "outputs": [],
      "source": [
        "from langgraph.graph import END, StateGraph, START\n",
        "\n",
        "workflow = StateGraph(GraphState)\n",
        "\n",
        "# Define the nodes\n",
        "workflow.add_node(\"web_search\", web_search)  # web search\n",
        "\n",
        "##STEP 6: adding new node for YouTube search\n",
        "workflow.add_node(\"youtube_search\", youtube_search_node)\n",
        "\n",
        "workflow.add_node(\"retrieve\", retrieve)  # retrieve\n",
        "workflow.add_node(\"grade_documents\", grade_documents)  # grade documents\n",
        "workflow.add_node(\"generate\", generate)  # generatae\n",
        "workflow.add_node(\"transform_query\", transform_query)  # transform_query\n",
        "\n",
        "\n",
        "# Build graph\n",
        "# set_conditional_entry_point method doesn't require mentioning START\n",
        "##STEP 7 MODIFY conditional edge for new tool here\n",
        "workflow.add_conditional_edges(\n",
        "    START,\n",
        "    route_question,\n",
        "    {\n",
        "        \"web_search\": \"web_search\",\n",
        "        \"vectorstore\": \"retrieve\",\n",
        "        \"youtube_search\" : \"youtube_search\"\n",
        "    },\n",
        ")\n",
        "workflow.add_edge(\"web_search\", \"generate\")\n",
        "workflow.add_edge(\"youtube_search\", \"generate\")\n",
        "\n",
        "##STEP 8: ##ADD edge for tool to END if invoking tool returns output /or/ ADD edge like Tavily, which connects to generate\n",
        "workflow.add_edge(\"retrieve\", \"grade_documents\")\n",
        "workflow.add_conditional_edges(\n",
        "    \"grade_documents\",\n",
        "    decide_to_generate,\n",
        "    {\n",
        "        \"transform_query\": \"transform_query\",\n",
        "        \"generate\": \"generate\",\n",
        "    },\n",
        ")\n",
        "workflow.add_edge(\"transform_query\", \"retrieve\")\n",
        "workflow.add_conditional_edges(\n",
        "    \"generate\",\n",
        "    grade_generation_v_documents_and_question,\n",
        "    {\n",
        "        \"not supported\": \"generate\",\n",
        "        \"useful\": END,\n",
        "        \"not useful\": \"transform_query\",\n",
        "    },\n",
        ")\n",
        "\n",
        "# Compile\n",
        "graph_4_adaptiverag = workflow.compile()"
      ]
    },
    {
      "cell_type": "code",
      "execution_count": 98,
      "metadata": {
        "colab": {
          "base_uri": "https://localhost:8080/",
          "height": 611
        },
        "id": "qucew1IjF_Kl",
        "outputId": "7217c03f-442a-4642-cd7b-57c107dcc3fd"
      },
      "outputs": [
        {
          "output_type": "display_data",
          "data": {
            "image/png": "[encoded data removed]",
            "text/plain": [
              "<IPython.core.display.Image object>"
            ]
          },
          "metadata": {}
        }
      ],
      "source": [
        "from IPython.display import Image, display\n",
        "\n",
        "try:\n",
        "    display(Image(graph_4_adaptiverag.get_graph(xray=True).draw_mermaid_png()))\n",
        "except Exception:\n",
        "    # This requires some extra dependencies and is optional\n",
        "    pass"
      ]
    },
    {
      "cell_type": "markdown",
      "metadata": {
        "id": "ee_WekLTF_Kl"
      },
      "source": [
        "#### Flow 5 - Adaptive RAG (custom) = Corrective RAG (custom) + Query Analysis"
      ]
    },
    {
      "cell_type": "code",
      "execution_count": 99,
      "metadata": {
        "id": "095A9ZWRF_Kl"
      },
      "outputs": [],
      "source": [
        "from langgraph.graph import END, StateGraph, START\n",
        "\n",
        "workflow = StateGraph(GraphState)\n",
        "\n",
        "# Define the nodes\n",
        "workflow.add_node(\"retrieve\", retrieve)  # retrieve\n",
        "workflow.add_node(\"grade_documents\", grade_documents)  # grade documents\n",
        "workflow.add_node(\"generate\", generate)  # generatae\n",
        "workflow.add_node(\"transform_query\", transform_query)  # transform_query\n",
        "workflow.add_node(\"web_search\", web_search)  # web search\n",
        "\n",
        "# Build graph\n",
        "# set_conditional_entry_point method doesn't require mentioning START\n",
        "workflow.add_conditional_edges(\n",
        "    START,\n",
        "    route_question,\n",
        "    {\n",
        "        \"web_search\": \"web_search\",\n",
        "        \"vectorstore\": \"retrieve\",\n",
        "    },\n",
        ")\n",
        "workflow.add_edge(\"web_search\", \"generate\")\n",
        "workflow.add_edge(\"retrieve\", \"grade_documents\")\n",
        "workflow.add_conditional_edges(\n",
        "    \"grade_documents\",\n",
        "    decide_to_generate,\n",
        "    {\n",
        "        \"transform_query\": \"transform_query\",\n",
        "        \"generate\": \"generate\",\n",
        "    },\n",
        ")\n",
        "workflow.add_edge(\"transform_query\", \"web_search\")\n",
        "workflow.add_edge(\"web_search\", \"generate\")\n",
        "workflow.add_conditional_edges(\n",
        "    \"generate\",\n",
        "    grade_generation_v_documents_and_question,\n",
        "    {\n",
        "        \"not supported\": \"generate\",\n",
        "        \"useful\": END,\n",
        "        \"not useful\": \"transform_query\",\n",
        "    },\n",
        ")\n",
        "\n",
        "# Compile\n",
        "graph_5_adaptiverag_custom = workflow.compile()"
      ]
    },
    {
      "cell_type": "code",
      "execution_count": 100,
      "metadata": {
        "colab": {
          "base_uri": "https://localhost:8080/",
          "height": 586
        },
        "id": "67wQ-UcQF_Kl",
        "outputId": "af85eb4f-7323-4f46-f7fd-ef8cdfb5d8cd"
      },
      "outputs": [
        {
          "output_type": "display_data",
          "data": {
            "image/png": "[encoded data removed]",
            "text/plain": [
              "<IPython.core.display.Image object>"
            ]
          },
          "metadata": {}
        }
      ],
      "source": [
        "from IPython.display import Image, display\n",
        "\n",
        "try:\n",
        "    display(Image(graph_5_adaptiverag_custom.get_graph(xray=True).draw_mermaid_png()))\n",
        "except Exception:\n",
        "    # This requires some extra dependencies and is optional\n",
        "    pass"
      ]
    },
    {
      "cell_type": "markdown",
      "metadata": {
        "id": "MOgHs2PxF_Kl"
      },
      "source": [
        "## Use Graph"
      ]
    },
    {
      "cell_type": "markdown",
      "metadata": {
        "id": "jcnjKWXnF_Kl"
      },
      "source": [
        "### For Question Not in Context"
      ]
    },
    {
      "cell_type": "code",
      "execution_count": 101,
      "metadata": {
        "colab": {
          "base_uri": "https://localhost:8080/",
          "height": 36
        },
        "id": "uBo2lIW8F_Kl",
        "outputId": "ccf8eb9b-bcc3-483c-f057-5e5cb75e6a6d"
      },
      "outputs": [
        {
          "output_type": "execute_result",
          "data": {
            "text/plain": [
              "'Which players in IPL 2025 are expected to draw significant bids'"
            ],
            "application/vnd.google.colaboratory.intrinsic+json": {
              "type": "string"
            }
          },
          "metadata": {},
          "execution_count": 101
        }
      ],
      "source": [
        "question_search"
      ]
    },
    {
      "cell_type": "code",
      "execution_count": 102,
      "metadata": {
        "id": "5oAmR8sJF_Kl"
      },
      "outputs": [],
      "source": [
        "# Run\n",
        "inputs = {\n",
        "    \"question\": question_search\n",
        "}"
      ]
    },
    {
      "cell_type": "code",
      "execution_count": 103,
      "metadata": {
        "colab": {
          "base_uri": "https://localhost:8080/"
        },
        "id": "JrrqlmmOF_Kl",
        "outputId": "f0e2468b-2306-4717-b45c-8750e392b510"
      },
      "outputs": [
        {
          "output_type": "stream",
          "name": "stdout",
          "text": [
            "FLOW 1----->\n",
            "\n",
            "---RETRIEVE---\n",
            "\"Node 'retrieve':\"\n",
            "'\\n---\\n'\n",
            "---CHECK DOCUMENT RELEVANCE TO QUESTION---\n",
            "---GRADE: DOCUMENT NOT RELEVANT---\n",
            "---GRADE: DOCUMENT NOT RELEVANT---\n",
            "---GRADE: DOCUMENT NOT RELEVANT---\n",
            "---GRADE: DOCUMENT NOT RELEVANT---\n",
            "---ASSESS GRADED DOCUMENTS---\n",
            "---DECISION: ALL DOCUMENTS ARE NOT RELEVANT TO QUESTION, TRANSFORM QUERY---\n",
            "\"Node 'grade_documents':\"\n",
            "'\\n---\\n'\n",
            "---TRANSFORM QUERY---\n",
            "\"Node 'transform_query':\"\n",
            "'\\n---\\n'\n",
            "---WEB SEARCH---\n",
            "\"Node 'web_search':\"\n",
            "'\\n---\\n'\n",
            "---GENERATE---\n",
            "\"Node 'generate':\"\n",
            "'\\n---\\n'\n",
            "('Based on the context, the IPL players who are likely to attract high auction '\n",
            " 'prices in the 2025 season are Rishabh Pant, Glenn Maxwell, KL Rahul, and '\n",
            " 'Shreyas Iyer.')\n",
            "------------------------------------------------------------\n",
            "\n",
            "\n",
            "\n",
            "FLOW 3----->\n",
            "\n",
            "---RETRIEVE---\n",
            "\"Node 'retrieve':\"\n",
            "'\\n---\\n'\n",
            "---CHECK DOCUMENT RELEVANCE TO QUESTION---\n",
            "---GRADE: DOCUMENT NOT RELEVANT---\n",
            "---GRADE: DOCUMENT NOT RELEVANT---\n",
            "---GRADE: DOCUMENT NOT RELEVANT---\n",
            "---GRADE: DOCUMENT NOT RELEVANT---\n",
            "---ASSESS GRADED DOCUMENTS---\n",
            "---DECISION: ALL DOCUMENTS ARE NOT RELEVANT TO QUESTION, TRANSFORM QUERY---\n",
            "\"Node 'grade_documents':\"\n",
            "'\\n---\\n'\n",
            "---TRANSFORM QUERY---\n",
            "\"Node 'transform_query':\"\n",
            "'\\n---\\n'\n",
            "---WEB SEARCH---\n",
            "\"Node 'web_search':\"\n",
            "'\\n---\\n'\n",
            "---GENERATE---\n",
            "---CHECK HALLUCINATIONS---\n",
            "---DECISION: GENERATION IS GROUNDED IN DOCUMENTS---\n",
            "---GRADE GENERATION vs QUESTION---\n",
            "---DECISION: GENERATION ADDRESSES QUESTION---\n",
            "\"Node 'generate':\"\n",
            "'\\n---\\n'\n",
            "('Based on the retrieved context, top-performing cricketers in the Indian '\n",
            " 'Premier League (IPL) who are likely to receive high auction bids in the 2025 '\n",
            " \"season are Rishabh Pant and Shreyas Iyer, who emerged as the league's most \"\n",
            " 'expensive players in the previous auction, with bids of Rs 27 crore and Rs '\n",
            " '26.75 crore, respectively.')\n",
            "------------------------------------------------------------\n",
            "\n",
            "\n",
            "\n",
            "FLOW 5----->\n",
            "\n",
            "---ROUTE QUESTION---\n",
            "---ROUTE QUESTION TO RAG---\n",
            "---RETRIEVE---\n",
            "\"Node 'retrieve':\"\n",
            "'\\n---\\n'\n",
            "---CHECK DOCUMENT RELEVANCE TO QUESTION---\n",
            "---GRADE: DOCUMENT NOT RELEVANT---\n",
            "---GRADE: DOCUMENT NOT RELEVANT---\n",
            "---GRADE: DOCUMENT NOT RELEVANT---\n",
            "---GRADE: DOCUMENT NOT RELEVANT---\n",
            "---ASSESS GRADED DOCUMENTS---\n",
            "---DECISION: ALL DOCUMENTS ARE NOT RELEVANT TO QUESTION, TRANSFORM QUERY---\n",
            "\"Node 'grade_documents':\"\n",
            "'\\n---\\n'\n",
            "---TRANSFORM QUERY---\n",
            "\"Node 'transform_query':\"\n",
            "'\\n---\\n'\n",
            "---WEB SEARCH---\n",
            "\"Node 'web_search':\"\n",
            "'\\n---\\n'\n",
            "---GENERATE---\n",
            "---CHECK HALLUCINATIONS---\n",
            "---DECISION: GENERATION IS GROUNDED IN DOCUMENTS---\n",
            "---GRADE GENERATION vs QUESTION---\n",
            "---DECISION: GENERATION ADDRESSES QUESTION---\n",
            "\"Node 'generate':\"\n",
            "'\\n---\\n'\n",
            "('Based on the context, top-performing IPL players in recent seasons who are '\n",
            " 'likely to attract high bids in the upcoming IPL 2025 auction are Rishabh '\n",
            " 'Pant, KL Rahul, Mitchell Starc, Jos Buttler, and Suryakumar Yadav.')\n",
            "------------------------------------------------------------\n",
            "\n",
            "\n",
            "\n"
          ]
        }
      ],
      "source": [
        "#Self-RAG gets stuck in loop!\n",
        "for i,app in enumerate([graph_1_crag, graph_3_crag_custom, graph_5_adaptiverag_custom]):\n",
        "    print(\"FLOW {}----->\".format(str(2*i+1))+\"\\n\")\n",
        "    for output in app.stream(inputs):\n",
        "        for key, value in output.items():\n",
        "            # Node\n",
        "            pprint(f\"Node '{key}':\")\n",
        "            # Optional: print full state at each node\n",
        "            # pprint.pprint(value[\"keys\"], indent=2, width=80, depth=None)\n",
        "        pprint(\"\\n---\\n\")\n",
        "\n",
        "    # Final generation\n",
        "    pprint(value[\"generation\"])\n",
        "    print(\"---\"*20 + \"\\n\\n\\n\")"
      ]
    },
    {
      "cell_type": "markdown",
      "metadata": {
        "id": "N6-Vbek8F_Km"
      },
      "source": [
        "### For Question in Context"
      ]
    },
    {
      "cell_type": "code",
      "execution_count": 104,
      "metadata": {
        "colab": {
          "base_uri": "https://localhost:8080/",
          "height": 36
        },
        "id": "_vIVODL7F_Km",
        "outputId": "9f9402d1-022a-470c-bb98-cd3b4a739e07"
      },
      "outputs": [
        {
          "output_type": "execute_result",
          "data": {
            "text/plain": [
              "'What are the highlights of the PGP in Data Science and AI course at Jio Institute'"
            ],
            "application/vnd.google.colaboratory.intrinsic+json": {
              "type": "string"
            }
          },
          "metadata": {},
          "execution_count": 104
        }
      ],
      "source": [
        "question_doc"
      ]
    },
    {
      "cell_type": "code",
      "execution_count": 105,
      "metadata": {
        "id": "fUNKHvk6F_Km"
      },
      "outputs": [],
      "source": [
        "# Run\n",
        "inputs = {\"question\": question_doc}"
      ]
    },
    {
      "cell_type": "code",
      "execution_count": 106,
      "metadata": {
        "colab": {
          "base_uri": "https://localhost:8080/"
        },
        "id": "zjIEBbFJF_Km",
        "outputId": "eb5c375b-b490-4a30-e0ff-f1376728a2d3"
      },
      "outputs": [
        {
          "output_type": "stream",
          "name": "stdout",
          "text": [
            "FLOW 1----->\n",
            "\n",
            "---RETRIEVE---\n",
            "\"Node 'retrieve':\"\n",
            "'\\n---\\n'\n",
            "---CHECK DOCUMENT RELEVANCE TO QUESTION---\n",
            "---GRADE: DOCUMENT RELEVANT---\n",
            "---GRADE: DOCUMENT RELEVANT---\n",
            "---GRADE: DOCUMENT NOT RELEVANT---\n",
            "---GRADE: DOCUMENT NOT RELEVANT---\n",
            "---ASSESS GRADED DOCUMENTS---\n",
            "---DECISION: GENERATE---\n",
            "\"Node 'grade_documents':\"\n",
            "'\\n---\\n'\n",
            "---GENERATE---\n",
            "\"Node 'generate':\"\n",
            "'\\n---\\n'\n",
            "(\"I don't have information on the specific highlights of the PGP in Data \"\n",
            " 'Science and AI course at Jio Institute. The provided context only mentions '\n",
            " 'the eligibility criteria and a general description of the course, but not '\n",
            " 'specific highlights.')\n",
            "------------------------------------------------------------\n",
            "\n",
            "\n",
            "\n",
            "FLOW 2----->\n",
            "\n",
            "---RETRIEVE---\n",
            "\"Node 'retrieve':\"\n",
            "'\\n---\\n'\n",
            "---CHECK DOCUMENT RELEVANCE TO QUESTION---\n",
            "---GRADE: DOCUMENT RELEVANT---\n",
            "---GRADE: DOCUMENT RELEVANT---\n",
            "---GRADE: DOCUMENT NOT RELEVANT---\n",
            "---GRADE: DOCUMENT NOT RELEVANT---\n",
            "---ASSESS GRADED DOCUMENTS---\n",
            "---DECISION: GENERATE---\n",
            "\"Node 'grade_documents':\"\n",
            "'\\n---\\n'\n",
            "---GENERATE---\n",
            "---CHECK HALLUCINATIONS---\n",
            "---DECISION: GENERATION IS GROUNDED IN DOCUMENTS---\n",
            "---GRADE GENERATION vs QUESTION---\n",
            "---DECISION: GENERATION DOES NOT ADDRESS QUESTION---\n",
            "\"Node 'generate':\"\n",
            "'\\n---\\n'\n",
            "---TRANSFORM QUERY---\n",
            "\"Node 'transform_query':\"\n",
            "'\\n---\\n'\n",
            "---RETRIEVE---\n",
            "\"Node 'retrieve':\"\n",
            "'\\n---\\n'\n",
            "---CHECK DOCUMENT RELEVANCE TO QUESTION---\n",
            "---GRADE: DOCUMENT RELEVANT---\n",
            "---GRADE: DOCUMENT NOT RELEVANT---\n",
            "---GRADE: DOCUMENT NOT RELEVANT---\n",
            "---GRADE: DOCUMENT NOT RELEVANT---\n",
            "---ASSESS GRADED DOCUMENTS---\n",
            "---DECISION: GENERATE---\n",
            "\"Node 'grade_documents':\"\n",
            "'\\n---\\n'\n",
            "---GENERATE---\n",
            "---CHECK HALLUCINATIONS---\n",
            "---DECISION: GENERATION IS GROUNDED IN DOCUMENTS---\n",
            "---GRADE GENERATION vs QUESTION---\n",
            "---DECISION: GENERATION DOES NOT ADDRESS QUESTION---\n",
            "\"Node 'generate':\"\n",
            "'\\n---\\n'\n",
            "---TRANSFORM QUERY---\n",
            "\"Node 'transform_query':\"\n",
            "'\\n---\\n'\n",
            "---RETRIEVE---\n",
            "\"Node 'retrieve':\"\n",
            "'\\n---\\n'\n",
            "---CHECK DOCUMENT RELEVANCE TO QUESTION---\n",
            "---GRADE: DOCUMENT RELEVANT---\n",
            "---GRADE: DOCUMENT RELEVANT---\n",
            "---GRADE: DOCUMENT NOT RELEVANT---\n",
            "---GRADE: DOCUMENT NOT RELEVANT---\n",
            "---ASSESS GRADED DOCUMENTS---\n",
            "---DECISION: GENERATE---\n",
            "\"Node 'grade_documents':\"\n",
            "'\\n---\\n'\n",
            "---GENERATE---\n",
            "---CHECK HALLUCINATIONS---\n",
            "---DECISION: GENERATION IS GROUNDED IN DOCUMENTS---\n",
            "---GRADE GENERATION vs QUESTION---\n",
            "---DECISION: GENERATION ADDRESSES QUESTION---\n",
            "\"Node 'generate':\"\n",
            "'\\n---\\n'\n",
            "(\"Jio Institute's Data Science and AI program emphasizes on developing skills \"\n",
            " 'in machine learning, deep learning, and big data analytics. The program '\n",
            " 'features immersive learning through live projects, experiential learning, '\n",
            " 'and hands-on experience in data science and AI applications. Key aspects of '\n",
            " 'the program include inter-disciplinary skills, contemporary life skills, and '\n",
            " 'holistic development of students.')\n",
            "------------------------------------------------------------\n",
            "\n",
            "\n",
            "\n",
            "FLOW 3----->\n",
            "\n",
            "---RETRIEVE---\n",
            "\"Node 'retrieve':\"\n",
            "'\\n---\\n'\n",
            "---CHECK DOCUMENT RELEVANCE TO QUESTION---\n",
            "---GRADE: DOCUMENT RELEVANT---\n",
            "---GRADE: DOCUMENT RELEVANT---\n",
            "---GRADE: DOCUMENT NOT RELEVANT---\n",
            "---GRADE: DOCUMENT NOT RELEVANT---\n",
            "---ASSESS GRADED DOCUMENTS---\n",
            "---DECISION: GENERATE---\n",
            "\"Node 'grade_documents':\"\n",
            "'\\n---\\n'\n",
            "---GENERATE---\n",
            "---CHECK HALLUCINATIONS---\n",
            "---DECISION: GENERATION IS GROUNDED IN DOCUMENTS---\n",
            "---GRADE GENERATION vs QUESTION---\n",
            "---DECISION: GENERATION DOES NOT ADDRESS QUESTION---\n",
            "\"Node 'generate':\"\n",
            "'\\n---\\n'\n",
            "---TRANSFORM QUERY---\n",
            "\"Node 'transform_query':\"\n",
            "'\\n---\\n'\n",
            "---WEB SEARCH---\n",
            "\"Node 'web_search':\"\n",
            "'\\n---\\n'\n",
            "---GENERATE---\n",
            "---CHECK HALLUCINATIONS---\n",
            "'---DECISION: GENERATION IS NOT GROUNDED IN DOCUMENTS, RE-TRY---'\n",
            "\"Node 'generate':\"\n",
            "'\\n---\\n'\n",
            "---GENERATE---\n",
            "---CHECK HALLUCINATIONS---\n",
            "---DECISION: GENERATION IS GROUNDED IN DOCUMENTS---\n",
            "---GRADE GENERATION vs QUESTION---\n",
            "---DECISION: GENERATION ADDRESSES QUESTION---\n",
            "\"Node 'generate':\"\n",
            "'\\n---\\n'\n",
            "('The Postgraduate Programme in Data Science and Artificial Intelligence '\n",
            " '(PGP-DSAI) at Jio Institute has a comprehensive curriculum that covers '\n",
            " 'foundation and advanced courses to train future-ready full-stack data '\n",
            " 'scientists and AI architects. Key concepts and technologies include Machine '\n",
            " 'Learning, Deep Learning, Natural Language Processing, and Bigdata '\n",
            " 'Engineering.')\n",
            "------------------------------------------------------------\n",
            "\n",
            "\n",
            "\n"
          ]
        }
      ],
      "source": [
        "for i,app in enumerate([graph_1_crag, graph_2_selfrag, graph_3_crag_custom]):\n",
        "    print(\"FLOW {}----->\".format(str(i+1))+\"\\n\")\n",
        "    for output in app.stream(inputs):\n",
        "        for key, value in output.items():\n",
        "            # Node\n",
        "            pprint(f\"Node '{key}':\")\n",
        "            # Optional: print full state at each node\n",
        "            # pprint.pprint(value[\"keys\"], indent=2, width=80, depth=None)\n",
        "        pprint(\"\\n---\\n\")\n",
        "\n",
        "    # Final generation\n",
        "    pprint(value[\"generation\"])\n",
        "    print(\"---\"*20 + \"\\n\\n\\n\")"
      ]
    },
    {
      "cell_type": "code",
      "execution_count": 119,
      "metadata": {
        "colab": {
          "base_uri": "https://localhost:8080/",
          "height": 36
        },
        "id": "shCx9FubF_Km",
        "outputId": "1c08cfba-888b-4f2d-fcde-93fc40e7c13f"
      },
      "outputs": [
        {
          "output_type": "execute_result",
          "data": {
            "text/plain": [
              "'I want few links to good YouTube videos on Generative AI crash course'"
            ],
            "application/vnd.google.colaboratory.intrinsic+json": {
              "type": "string"
            }
          },
          "metadata": {},
          "execution_count": 119
        }
      ],
      "source": [
        "##STEP 9 - Test with a relevant question that routes to the YouTube tool\n",
        "\n",
        "youtube_search_query"
      ]
    },
    {
      "cell_type": "code",
      "source": [
        "# Run\n",
        "inputs = {\"question\": youtube_search_query}"
      ],
      "metadata": {
        "id": "bBHhgBQR19n2"
      },
      "execution_count": 120,
      "outputs": []
    },
    {
      "cell_type": "code",
      "source": [
        "# execute the graph\n",
        "\n",
        "for i,app in enumerate([graph_4_adaptiverag]):\n",
        "    print(\"FLOW {}----->\".format(str(i+4))+\"\\n\")\n",
        "    for output in app.stream(inputs):\n",
        "        for key, value in output.items():\n",
        "            # Node\n",
        "            pprint(f\"Node '{key}':\")\n",
        "            # Optional: print full state at each node\n",
        "            # pprint.pprint(value[\"keys\"], indent=2, width=80, depth=None)\n",
        "        pprint(\"\\n---\\n\")\n",
        "\n",
        "    # Final generation\n",
        "    pprint(value[\"generation\"])\n",
        "    print(\"---\"*20 + \"\\n\\n\\n\")"
      ],
      "metadata": {
        "colab": {
          "base_uri": "https://localhost:8080/"
        },
        "id": "zaxpkFV6j0zK",
        "outputId": "7d9e45dd-def3-4baa-8e43-1631a039af54"
      },
      "execution_count": 121,
      "outputs": [
        {
          "output_type": "stream",
          "name": "stdout",
          "text": [
            "FLOW 4----->\n",
            "\n",
            "---ROUTE QUESTION---\n",
            "---ROUTE QUESTION TO YOUTUBE SEARCH---\n",
            "---YOUTUBE SEARCH---\n",
            "\"Node 'youtube_search':\"\n",
            "'\\n---\\n'\n",
            "---GENERATE---\n",
            "---CHECK HALLUCINATIONS---\n",
            "---DECISION: GENERATION IS GROUNDED IN DOCUMENTS---\n",
            "---GRADE GENERATION vs QUESTION---\n",
            "---DECISION: GENERATION ADDRESSES QUESTION---\n",
            "\"Node 'generate':\"\n",
            "'\\n---\\n'\n",
            "('Here are a few links to good YouTube videos on a Generative AI crash '\n",
            " 'course:\\n'\n",
            " '\\n'\n",
            " '1. https://www.youtube.com/watch?v=Yq0QkCxoTHM\\n'\n",
            " '2. https://www.youtube.com/watch?v=OjiTgpDPQbE\\n'\n",
            " '3. https://www.youtube.com/watch?v=nJ25yl34Uqw\\n'\n",
            " '\\n'\n",
            " 'These videos appear to provide an introduction to generative AI and its '\n",
            " 'applications.')\n",
            "------------------------------------------------------------\n",
            "\n",
            "\n",
            "\n"
          ]
        }
      ]
    },
    {
      "cell_type": "markdown",
      "source": [
        "## Exercise 4: Executing same query multiple times and recording the traces"
      ],
      "metadata": {
        "id": "jXdf0q_sIpqH"
      }
    },
    {
      "cell_type": "code",
      "source": [
        "# using below query for generating traces\n",
        "youtube_search_query"
      ],
      "metadata": {
        "id": "sPHyvxMoSxgB",
        "colab": {
          "base_uri": "https://localhost:8080/",
          "height": 36
        },
        "outputId": "40b3e901-d4d5-4351-e723-9e65ae57e3f6"
      },
      "execution_count": 122,
      "outputs": [
        {
          "output_type": "execute_result",
          "data": {
            "text/plain": [
              "'I want few links to good YouTube videos on Generative AI crash course'"
            ],
            "application/vnd.google.colaboratory.intrinsic+json": {
              "type": "string"
            }
          },
          "metadata": {},
          "execution_count": 122
        }
      ]
    },
    {
      "cell_type": "code",
      "source": [
        "# Run\n",
        "inputs = {\n",
        "    \"question\": youtube_search_query\n",
        "}"
      ],
      "metadata": {
        "id": "jjxFjDnbNdTv"
      },
      "execution_count": 123,
      "outputs": []
    },
    {
      "cell_type": "code",
      "source": [
        "# execute the graph\n",
        "\n",
        "for i,app in enumerate([graph_4_adaptiverag]):\n",
        "    print(\"FLOW {}----->\".format(str(i+4))+\"\\n\")\n",
        "    for output in app.stream(inputs):\n",
        "        for key, value in output.items():\n",
        "            # Node\n",
        "            pprint(f\"Node '{key}':\")\n",
        "            # Optional: print full state at each node\n",
        "            # pprint.pprint(value[\"keys\"], indent=2, width=80, depth=None)\n",
        "        pprint(\"\\n---\\n\")\n",
        "\n",
        "    # Final generation\n",
        "    pprint(value[\"generation\"])\n",
        "    print(\"---\"*20 + \"\\n\\n\\n\")"
      ],
      "metadata": {
        "id": "LjY5QdRrkN5M",
        "colab": {
          "base_uri": "https://localhost:8080/"
        },
        "outputId": "0453c05e-2669-4d06-bb69-12b53f37de08"
      },
      "execution_count": 126,
      "outputs": [
        {
          "output_type": "stream",
          "name": "stdout",
          "text": [
            "FLOW 4----->\n",
            "\n",
            "---ROUTE QUESTION---\n",
            "---ROUTE QUESTION TO YOUTUBE SEARCH---\n",
            "---YOUTUBE SEARCH---\n",
            "\"Node 'youtube_search':\"\n",
            "'\\n---\\n'\n",
            "---GENERATE---\n",
            "---CHECK HALLUCINATIONS---\n",
            "---DECISION: GENERATION IS GROUNDED IN DOCUMENTS---\n",
            "---GRADE GENERATION vs QUESTION---\n",
            "---DECISION: GENERATION ADDRESSES QUESTION---\n",
            "\"Node 'generate':\"\n",
            "'\\n---\\n'\n",
            "('Here are a few links to good YouTube videos on Generative AI crash course:\\n'\n",
            " '\\n'\n",
            " '* https://www.youtube.com/watch?v=Yq0QkCxoTHM\\n'\n",
            " '* https://www.youtube.com/watch?v=OjiTgpDPQbE\\n'\n",
            " '* https://www.youtube.com/watch?v=nJ25yl34Uqw\\n'\n",
            " '\\n'\n",
            " 'These videos appear to be crash courses on generative AI, covering topics '\n",
            " 'such as the basics of generative AI, its applications, and how it works.')\n",
            "------------------------------------------------------------\n",
            "\n",
            "\n",
            "\n"
          ]
        }
      ]
    }
  ],
  "metadata": {
    "colab": {
      "provenance": []
    },
    "kernelspec": {
      "display_name": "Python 3 (ipykernel)",
      "language": "python",
      "name": "python3"
    },
    "language_info": {
      "codemirror_mode": {
        "name": "ipython",
        "version": 3
      },
      "file_extension": ".py",
      "mimetype": "text/x-python",
      "name": "python",
      "nbconvert_exporter": "python",
      "pygments_lexer": "ipython3",
      "version": "3.11.7"
    }
  },
  "nbformat": 4,
  "nbformat_minor": 0
}